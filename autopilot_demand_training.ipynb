{
 "cells": [
  {
   "attachments": {},
   "cell_type": "markdown",
   "metadata": {},
   "source": [
    "# Water Demand Prediction with Amazon SageMaker Autopilot\n"
   ]
  },
  {
   "attachments": {},
   "cell_type": "markdown",
   "metadata": {},
   "source": [
    "---\n",
    "\n",
    "This notebook's CI test result for ap-southeast-2 is as follows. CI test results in other regions can be found at the end of the notebook. \n",
    "\n",
    "![This us-west-2 badge failed to load. Check your device's internet connectivity, otherwise the service is currently unavailable](https://prod.us-west-2.tcx-beacon.docs.aws.dev/sagemaker-nb/us-west-2/autopilot|autopilot_california_housing.ipynb)\n",
    "\n",
    "---"
   ]
  },
  {
   "attachments": {},
   "cell_type": "markdown",
   "metadata": {},
   "source": [
    "_**Using Autopilot to Predict House Prices in California**_\n",
    "\n",
    "\n",
    "Kernel `Python 3 (Data Science)` works well with this notebook. You will have the best experience running this within SageMaker Studio.\n",
    "\n",
    "---\n",
    "\n",
    "## Contents\n",
    "\n",
    "1. [Introduction](#Introduction)\n",
    "1. [Setup](#Setup)\n",
    "1. [Prepare Training Data](#Data)\n",
    "1. [Train](#Settingup)\n",
    "1. [Autopilot Results](#Results)\n",
    "1. [Evaluate Using Test Data](#Evaluate)\n",
    "1. [Cleanup](#Cleanup)\n",
    "\n",
    "\n",
    "---\n",
    "\n",
    "## Introduction\n",
    "\n",
    "Amazon SageMaker Autopilot is an automated machine learning (commonly referred to as AutoML) solution for tabular datasets. You can use SageMaker Autopilot in different ways: on autopilot (without any human input) or with human guidance, without code through SageMaker Studio or scripted using the AWS SDKs. This notebook will use the AWS SDKs to simply create and deploy a machine learning model without doing any feature engineering manually. We will also explore the auto-generated feature importance report.\n",
    "\n",
    "Demand modelling is done per location. Features for demand forecasting:\n",
    "\n",
    "* ```doy```\n",
    "* ```Aquifer```\n",
    "* ```PE```\n",
    "* ```month```\n",
    "* ```mday```\n",
    "* ```is_holiday```\n",
    "* ```wday```\n",
    "* ```API```\n",
    "* ```lagAPI```\n",
    "* ```Tmax```\n",
    "* ```Tmaxlag1```\n",
    "* ```Sun```\n",
    "* ```Sunlag1```\n",
    "* ```WVRain```\n",
    "* ```KerburnRain```\n",
    "* ```Rain_L7DAYS```\n",
    "* ```Rain_L6DAYS```\n",
    "* ```Rain_L5DAYS```\n",
    "* ```Rain_L4DAYS```\n",
    "* ```Rain_L3DAYS```\n",
    "* ```Rain_L2DAYS```\n",
    "* ```Rain_L1DAYS```\n",
    "* ```Season```\n",
    "* ```Rainlag1```\n",
    "* ```Rainlag2```\n",
    "* ```Rainlag3```\n",
    "* ```PElag1```\n",
    "* ```PElag2```\n",
    "* ```PElag3```\n",
    "* ```ANcyc```\n",
    "* ```storage```\n",
    "* ```Storagelag1```\n",
    "* ```(site name) fTemp```\n",
    "* ```(site name) fPrecp```\n",
    "* ```(site name) cm```\n",
    "* ```(site name) stat```\n",
    "* ```Restriction level```\n",
    "* ```site name```(target)\n",
    "\n",
    "What we're going to try to predict is the site water demand for a wellington region. We will let Autopilot perform feature engineering, model selection, model tuning, and give us the best candidate model ready to use for inferences.\n",
    "\n",
    "---\n",
    "## Setup\n",
    "\n",
    "_This notebook was created and tested on a ml.m5.large notebook instance._\n",
    "\n",
    "Let's start by specifying:\n",
    "\n",
    "- The S3 bucket and prefix to use for training and model data.  This should be within the same region as the Notebook Instance, training, and hosting. The following code will use SageMaker's default S3 bucket (and create one if it doesn't exist).\n",
    "- The IAM role ARN used to give training and hosting access to your data. See the documentation for how to create these. The following code will use the SageMaker execution role."
   ]
  },
  {
   "cell_type": "code",
   "execution_count": 1,
   "metadata": {
    "isConfigCell": true,
    "tags": [
     "parameters"
    ]
   },
   "outputs": [
    {
     "name": "stdout",
     "output_type": "stream",
     "text": [
      "sagemaker.config INFO - Not applying SDK defaults from location: /etc/xdg/sagemaker/config.yaml\n",
      "sagemaker.config INFO - Not applying SDK defaults from location: /home/sagemaker-user/.config/sagemaker/config.yaml\n"
     ]
    }
   ],
   "source": [
    "import sagemaker\n",
    "import boto3\n",
    "from sagemaker import get_execution_role\n",
    "\n",
    "region = boto3.Session().region_name\n",
    "\n",
    "session = sagemaker.Session()\n",
    "\n",
    "# You can modify the following to use a bucket of your choosing\n",
    "bucket = session.default_bucket()\n",
    "prefix = \"sagemaker/autopilot-water-demand-prediction\"\n",
    "\n",
    "role = get_execution_role()\n",
    "\n",
    "# This is the client we will use to interact with SageMaker Autopilot\n",
    "sm = boto3.Session().client(service_name=\"sagemaker\", region_name=region)"
   ]
  },
  {
   "attachments": {},
   "cell_type": "markdown",
   "metadata": {},
   "source": [
    "Next, we'll import the Python libraries we'll need for the remainder of the exercise."
   ]
  },
  {
   "cell_type": "code",
   "execution_count": 2,
   "metadata": {},
   "outputs": [],
   "source": [
    "import pandas as pd\n",
    "import numpy as np\n",
    "import matplotlib.pyplot as plt\n",
    "import io\n",
    "from urllib.parse import urlparse\n",
    "import time"
   ]
  },
  {
   "attachments": {},
   "cell_type": "markdown",
   "metadata": {},
   "source": [
    "---\n",
    "## Prepare Training Data<a name=\"Data\"></a>\n",
    "\n",
    "We will use available training data stored in S3, date range is from 2006-01-01 to 2024-08-31. Training data prep procedure is the same as the inference data."
   ]
  },
  {
   "cell_type": "code",
   "execution_count": 3,
   "metadata": {},
   "outputs": [],
   "source": [
    "from io import StringIO\n",
    "\n",
    "s3 = boto3.client(\"s3\")\n",
    "\n",
    "def list_csv_files(bucket_name, key_path):\n",
    "    # List objects within the specified bucket and prefix\n",
    "    response = s3.list_objects_v2(Bucket=bucket_name, Prefix=key_path)\n",
    "    # Filter out the CSV files\n",
    "    csv_files = [content['Key'] for content in response.get('Contents', []) if content['Key'].endswith('.csv')]\n",
    "    return csv_files\n",
    "\n",
    "def read_csv_files_to_dataframes(bucket_name, csv_files):\n",
    "    dataframes = []\n",
    "    for key in csv_files:\n",
    "        # Get the object from S3\n",
    "        obj = s3.get_object(Bucket=bucket_name, Key=key)\n",
    "        # Read the CSV file content\n",
    "        data = obj['Body'].read().decode('utf-8')\n",
    "        # Convert to DataFrame\n",
    "        df = pd.read_csv(StringIO(data))\n",
    "        dataframes.append(df)\n",
    "    return dataframes\n",
    "\n",
    "# Example usage\n",
    "bucket_name = 'niwa-water-demand-modelling'\n",
    "key_path = 'TrainingData/'\n",
    "csv_files = list_csv_files(bucket_name, key_path)\n",
    "df_list = read_csv_files_to_dataframes(bucket_name, csv_files)"
   ]
  },
  {
   "cell_type": "code",
   "execution_count": 4,
   "metadata": {},
   "outputs": [
    {
     "data": {
      "text/plain": [
       "['TrainingData/Lower Hutt.csv',\n",
       " 'TrainingData/North Wellington Moa.csv',\n",
       " 'TrainingData/North Wellington Porirua.csv',\n",
       " 'TrainingData/Petone.csv',\n",
       " 'TrainingData/Porirua.csv',\n",
       " 'TrainingData/Upper Hutt.csv',\n",
       " 'TrainingData/Wainuiomata.csv',\n",
       " 'TrainingData/Wellington High Moa.csv',\n",
       " 'TrainingData/Wellington High Western.csv',\n",
       " 'TrainingData/Wellington Low Level.csv']"
      ]
     },
     "execution_count": 4,
     "metadata": {},
     "output_type": "execute_result"
    }
   ],
   "source": [
    "csv_files"
   ]
  },
  {
   "cell_type": "code",
   "execution_count": 5,
   "metadata": {},
   "outputs": [
    {
     "data": {
      "text/html": [
       "<div>\n",
       "<style scoped>\n",
       "    .dataframe tbody tr th:only-of-type {\n",
       "        vertical-align: middle;\n",
       "    }\n",
       "\n",
       "    .dataframe tbody tr th {\n",
       "        vertical-align: top;\n",
       "    }\n",
       "\n",
       "    .dataframe thead th {\n",
       "        text-align: right;\n",
       "    }\n",
       "</style>\n",
       "<table border=\"1\" class=\"dataframe\">\n",
       "  <thead>\n",
       "    <tr style=\"text-align: right;\">\n",
       "      <th></th>\n",
       "      <th>Date</th>\n",
       "      <th>doy</th>\n",
       "      <th>Aquifer</th>\n",
       "      <th>PE</th>\n",
       "      <th>month</th>\n",
       "      <th>mday</th>\n",
       "      <th>is_holiday</th>\n",
       "      <th>wday</th>\n",
       "      <th>API</th>\n",
       "      <th>lagAPI</th>\n",
       "      <th>...</th>\n",
       "      <th>PElag3</th>\n",
       "      <th>ANcyc</th>\n",
       "      <th>storage</th>\n",
       "      <th>Storagelag1</th>\n",
       "      <th>Lower Hutt fTemp</th>\n",
       "      <th>Lower Hutt fPrecp</th>\n",
       "      <th>Lower Hutt cm</th>\n",
       "      <th>Lower Hutt stat</th>\n",
       "      <th>Lower Hutt</th>\n",
       "      <th>Restriction level</th>\n",
       "    </tr>\n",
       "  </thead>\n",
       "  <tbody>\n",
       "    <tr>\n",
       "      <th>0</th>\n",
       "      <td>2006-01-01</td>\n",
       "      <td>1.0</td>\n",
       "      <td>0.0</td>\n",
       "      <td>4.0</td>\n",
       "      <td>1.0</td>\n",
       "      <td>31.0</td>\n",
       "      <td>1.0</td>\n",
       "      <td>6.0</td>\n",
       "      <td>5.597142</td>\n",
       "      <td>6.996428</td>\n",
       "      <td>...</td>\n",
       "      <td>4.0</td>\n",
       "      <td>0.999852</td>\n",
       "      <td>6.270848</td>\n",
       "      <td>7.659231</td>\n",
       "      <td>0.778843</td>\n",
       "      <td>0.756783</td>\n",
       "      <td>1.13142</td>\n",
       "      <td>202.0</td>\n",
       "      <td>245.474558</td>\n",
       "      <td>1.0</td>\n",
       "    </tr>\n",
       "    <tr>\n",
       "      <th>1</th>\n",
       "      <td>2006-01-02</td>\n",
       "      <td>2.0</td>\n",
       "      <td>0.0</td>\n",
       "      <td>4.0</td>\n",
       "      <td>1.0</td>\n",
       "      <td>31.0</td>\n",
       "      <td>1.0</td>\n",
       "      <td>0.0</td>\n",
       "      <td>4.477714</td>\n",
       "      <td>5.597142</td>\n",
       "      <td>...</td>\n",
       "      <td>4.0</td>\n",
       "      <td>0.999407</td>\n",
       "      <td>5.134136</td>\n",
       "      <td>6.270848</td>\n",
       "      <td>0.829385</td>\n",
       "      <td>0.735034</td>\n",
       "      <td>1.13142</td>\n",
       "      <td>181.0</td>\n",
       "      <td>189.061866</td>\n",
       "      <td>1.0</td>\n",
       "    </tr>\n",
       "    <tr>\n",
       "      <th>2</th>\n",
       "      <td>2006-01-03</td>\n",
       "      <td>3.0</td>\n",
       "      <td>7.0</td>\n",
       "      <td>4.0</td>\n",
       "      <td>1.0</td>\n",
       "      <td>31.0</td>\n",
       "      <td>1.0</td>\n",
       "      <td>1.0</td>\n",
       "      <td>10.582171</td>\n",
       "      <td>4.477714</td>\n",
       "      <td>...</td>\n",
       "      <td>4.0</td>\n",
       "      <td>0.998667</td>\n",
       "      <td>10.547899</td>\n",
       "      <td>5.134136</td>\n",
       "      <td>0.762252</td>\n",
       "      <td>0.728020</td>\n",
       "      <td>1.13142</td>\n",
       "      <td>187.0</td>\n",
       "      <td>277.001088</td>\n",
       "      <td>1.0</td>\n",
       "    </tr>\n",
       "    <tr>\n",
       "      <th>3</th>\n",
       "      <td>2006-01-04</td>\n",
       "      <td>4.0</td>\n",
       "      <td>4.0</td>\n",
       "      <td>4.0</td>\n",
       "      <td>1.0</td>\n",
       "      <td>31.0</td>\n",
       "      <td>0.0</td>\n",
       "      <td>2.0</td>\n",
       "      <td>12.465737</td>\n",
       "      <td>10.582171</td>\n",
       "      <td>...</td>\n",
       "      <td>4.0</td>\n",
       "      <td>0.997630</td>\n",
       "      <td>12.261274</td>\n",
       "      <td>10.547899</td>\n",
       "      <td>0.762252</td>\n",
       "      <td>0.728508</td>\n",
       "      <td>1.13142</td>\n",
       "      <td>261.0</td>\n",
       "      <td>241.740664</td>\n",
       "      <td>1.0</td>\n",
       "    </tr>\n",
       "    <tr>\n",
       "      <th>4</th>\n",
       "      <td>2006-01-05</td>\n",
       "      <td>5.0</td>\n",
       "      <td>2.4</td>\n",
       "      <td>4.0</td>\n",
       "      <td>1.0</td>\n",
       "      <td>31.0</td>\n",
       "      <td>0.0</td>\n",
       "      <td>3.0</td>\n",
       "      <td>12.372589</td>\n",
       "      <td>12.465737</td>\n",
       "      <td>...</td>\n",
       "      <td>4.0</td>\n",
       "      <td>0.996298</td>\n",
       "      <td>12.213913</td>\n",
       "      <td>12.261274</td>\n",
       "      <td>0.745922</td>\n",
       "      <td>0.729685</td>\n",
       "      <td>1.13142</td>\n",
       "      <td>252.0</td>\n",
       "      <td>208.878422</td>\n",
       "      <td>1.0</td>\n",
       "    </tr>\n",
       "  </tbody>\n",
       "</table>\n",
       "<p>5 rows × 38 columns</p>\n",
       "</div>"
      ],
      "text/plain": [
       "         Date  doy  Aquifer   PE  month  mday  is_holiday  wday        API  \\\n",
       "0  2006-01-01  1.0      0.0  4.0    1.0  31.0         1.0   6.0   5.597142   \n",
       "1  2006-01-02  2.0      0.0  4.0    1.0  31.0         1.0   0.0   4.477714   \n",
       "2  2006-01-03  3.0      7.0  4.0    1.0  31.0         1.0   1.0  10.582171   \n",
       "3  2006-01-04  4.0      4.0  4.0    1.0  31.0         0.0   2.0  12.465737   \n",
       "4  2006-01-05  5.0      2.4  4.0    1.0  31.0         0.0   3.0  12.372589   \n",
       "\n",
       "      lagAPI  ...  PElag3     ANcyc    storage  Storagelag1  Lower Hutt fTemp  \\\n",
       "0   6.996428  ...     4.0  0.999852   6.270848     7.659231          0.778843   \n",
       "1   5.597142  ...     4.0  0.999407   5.134136     6.270848          0.829385   \n",
       "2   4.477714  ...     4.0  0.998667  10.547899     5.134136          0.762252   \n",
       "3  10.582171  ...     4.0  0.997630  12.261274    10.547899          0.762252   \n",
       "4  12.465737  ...     4.0  0.996298  12.213913    12.261274          0.745922   \n",
       "\n",
       "   Lower Hutt fPrecp  Lower Hutt cm  Lower Hutt stat  Lower Hutt  \\\n",
       "0           0.756783        1.13142            202.0  245.474558   \n",
       "1           0.735034        1.13142            181.0  189.061866   \n",
       "2           0.728020        1.13142            187.0  277.001088   \n",
       "3           0.728508        1.13142            261.0  241.740664   \n",
       "4           0.729685        1.13142            252.0  208.878422   \n",
       "\n",
       "   Restriction level  \n",
       "0                1.0  \n",
       "1                1.0  \n",
       "2                1.0  \n",
       "3                1.0  \n",
       "4                1.0  \n",
       "\n",
       "[5 rows x 38 columns]"
      ]
     },
     "execution_count": 5,
     "metadata": {},
     "output_type": "execute_result"
    }
   ],
   "source": [
    "df_list[0].head()"
   ]
  },
  {
   "cell_type": "code",
   "execution_count": 6,
   "metadata": {},
   "outputs": [],
   "source": [
    "for csv_file, df in zip(csv_files, df_list):\n",
    "    target = csv_file.split(\"/\")[-1].split(\".csv\")[0]\n",
    "    columns = [e for e in df.columns if e != \"Date\"]\n"
   ]
  },
  {
   "cell_type": "code",
   "execution_count": 8,
   "metadata": {},
   "outputs": [
    {
     "data": {
      "text/plain": [
       "(['doy',\n",
       "  'Aquifer',\n",
       "  'PE',\n",
       "  'month',\n",
       "  'mday',\n",
       "  'is_holiday',\n",
       "  'wday',\n",
       "  'API',\n",
       "  'lagAPI',\n",
       "  'Tmax',\n",
       "  'Tmaxlag1',\n",
       "  'Sun',\n",
       "  'Sunlag1',\n",
       "  'WVRain',\n",
       "  'KerburnRain',\n",
       "  'Rain_L7DAYS',\n",
       "  'Rain_L6DAYS',\n",
       "  'Rain_L5DAYS',\n",
       "  'Rain_L4DAYS',\n",
       "  'Rain_L3DAYS',\n",
       "  'Rain_L2DAYS',\n",
       "  'Season',\n",
       "  'Rainlag1',\n",
       "  'Rainlag2',\n",
       "  'Rainlag3',\n",
       "  'PElag1',\n",
       "  'PElag2',\n",
       "  'PElag3',\n",
       "  'ANcyc',\n",
       "  'storage',\n",
       "  'Storagelag1',\n",
       "  'Wellington Low Level fTemp',\n",
       "  'Wellington Low Level fPrecp',\n",
       "  'Wellington Low Level cm',\n",
       "  'Wellington Low Level stat',\n",
       "  'Wellington Low Level',\n",
       "  'Restriction level'],\n",
       " 'Wellington Low Level')"
      ]
     },
     "execution_count": 8,
     "metadata": {},
     "output_type": "execute_result"
    }
   ],
   "source": [
    "columns, target"
   ]
  },
  {
   "attachments": {},
   "cell_type": "markdown",
   "metadata": {},
   "source": [
    "Before starting an Autopilot job, it is good practice to inspect the data to ensure there are no obvious issues with it. "
   ]
  },
  {
   "cell_type": "code",
   "execution_count": 9,
   "metadata": {},
   "outputs": [
    {
     "data": {
      "text/html": [
       "<div>\n",
       "<style scoped>\n",
       "    .dataframe tbody tr th:only-of-type {\n",
       "        vertical-align: middle;\n",
       "    }\n",
       "\n",
       "    .dataframe tbody tr th {\n",
       "        vertical-align: top;\n",
       "    }\n",
       "\n",
       "    .dataframe thead th {\n",
       "        text-align: right;\n",
       "    }\n",
       "</style>\n",
       "<table border=\"1\" class=\"dataframe\">\n",
       "  <thead>\n",
       "    <tr style=\"text-align: right;\">\n",
       "      <th></th>\n",
       "      <th>Date</th>\n",
       "      <th>doy</th>\n",
       "      <th>Aquifer</th>\n",
       "      <th>PE</th>\n",
       "      <th>month</th>\n",
       "      <th>mday</th>\n",
       "      <th>is_holiday</th>\n",
       "      <th>wday</th>\n",
       "      <th>API</th>\n",
       "      <th>lagAPI</th>\n",
       "      <th>Tmax</th>\n",
       "      <th>Tmaxlag1</th>\n",
       "      <th>Sun</th>\n",
       "      <th>Sunlag1</th>\n",
       "      <th>WVRain</th>\n",
       "      <th>KerburnRain</th>\n",
       "      <th>Rain_L7DAYS</th>\n",
       "      <th>Rain_L6DAYS</th>\n",
       "      <th>Rain_L5DAYS</th>\n",
       "      <th>Rain_L4DAYS</th>\n",
       "      <th>Rain_L3DAYS</th>\n",
       "      <th>Rain_L2DAYS</th>\n",
       "      <th>Season</th>\n",
       "      <th>Rainlag1</th>\n",
       "      <th>Rainlag2</th>\n",
       "      <th>Rainlag3</th>\n",
       "      <th>PElag1</th>\n",
       "      <th>PElag2</th>\n",
       "      <th>PElag3</th>\n",
       "      <th>ANcyc</th>\n",
       "      <th>storage</th>\n",
       "      <th>Storagelag1</th>\n",
       "      <th>Wellington Low Level fTemp</th>\n",
       "      <th>Wellington Low Level fPrecp</th>\n",
       "      <th>Wellington Low Level cm</th>\n",
       "      <th>Wellington Low Level stat</th>\n",
       "      <th>Wellington Low Level</th>\n",
       "      <th>Restriction level</th>\n",
       "    </tr>\n",
       "  </thead>\n",
       "  <tbody>\n",
       "    <tr>\n",
       "      <th>0</th>\n",
       "      <td>2006-01-01</td>\n",
       "      <td>1.0</td>\n",
       "      <td>0.0</td>\n",
       "      <td>4.0</td>\n",
       "      <td>1.0</td>\n",
       "      <td>31.0</td>\n",
       "      <td>1.0</td>\n",
       "      <td>6.0</td>\n",
       "      <td>5.597142</td>\n",
       "      <td>6.996428</td>\n",
       "      <td>21.0</td>\n",
       "      <td>23.0</td>\n",
       "      <td>8.8</td>\n",
       "      <td>13.2</td>\n",
       "      <td>0.000000</td>\n",
       "      <td>7.0</td>\n",
       "      <td>3.2</td>\n",
       "      <td>2.0</td>\n",
       "      <td>2.0</td>\n",
       "      <td>2.0</td>\n",
       "      <td>2.000000e+00</td>\n",
       "      <td>1.000000e+00</td>\n",
       "      <td>4.0</td>\n",
       "      <td>1.0</td>\n",
       "      <td>1.0</td>\n",
       "      <td>0.0</td>\n",
       "      <td>4.0</td>\n",
       "      <td>4.0</td>\n",
       "      <td>4.0</td>\n",
       "      <td>0.999852</td>\n",
       "      <td>6.270848</td>\n",
       "      <td>7.659231</td>\n",
       "      <td>1.555585</td>\n",
       "      <td>0.992720</td>\n",
       "      <td>1.080511</td>\n",
       "      <td>199.000000</td>\n",
       "      <td>267.710740</td>\n",
       "      <td>1.0</td>\n",
       "    </tr>\n",
       "    <tr>\n",
       "      <th>1</th>\n",
       "      <td>2006-01-02</td>\n",
       "      <td>2.0</td>\n",
       "      <td>0.0</td>\n",
       "      <td>4.0</td>\n",
       "      <td>1.0</td>\n",
       "      <td>31.0</td>\n",
       "      <td>1.0</td>\n",
       "      <td>0.0</td>\n",
       "      <td>4.477714</td>\n",
       "      <td>5.597142</td>\n",
       "      <td>24.0</td>\n",
       "      <td>21.0</td>\n",
       "      <td>6.9</td>\n",
       "      <td>8.8</td>\n",
       "      <td>0.000000</td>\n",
       "      <td>5.0</td>\n",
       "      <td>2.0</td>\n",
       "      <td>2.0</td>\n",
       "      <td>2.0</td>\n",
       "      <td>2.0</td>\n",
       "      <td>1.000000e+00</td>\n",
       "      <td>0.000000e+00</td>\n",
       "      <td>4.0</td>\n",
       "      <td>0.0</td>\n",
       "      <td>1.0</td>\n",
       "      <td>1.0</td>\n",
       "      <td>4.0</td>\n",
       "      <td>4.0</td>\n",
       "      <td>4.0</td>\n",
       "      <td>0.999407</td>\n",
       "      <td>5.134136</td>\n",
       "      <td>6.270848</td>\n",
       "      <td>1.556436</td>\n",
       "      <td>0.988433</td>\n",
       "      <td>1.080511</td>\n",
       "      <td>174.000000</td>\n",
       "      <td>260.434133</td>\n",
       "      <td>1.0</td>\n",
       "    </tr>\n",
       "    <tr>\n",
       "      <th>2</th>\n",
       "      <td>2006-01-03</td>\n",
       "      <td>3.0</td>\n",
       "      <td>7.0</td>\n",
       "      <td>4.0</td>\n",
       "      <td>1.0</td>\n",
       "      <td>31.0</td>\n",
       "      <td>1.0</td>\n",
       "      <td>1.0</td>\n",
       "      <td>10.582171</td>\n",
       "      <td>4.477714</td>\n",
       "      <td>20.0</td>\n",
       "      <td>24.0</td>\n",
       "      <td>11.2</td>\n",
       "      <td>6.9</td>\n",
       "      <td>0.238095</td>\n",
       "      <td>17.0</td>\n",
       "      <td>2.0</td>\n",
       "      <td>2.0</td>\n",
       "      <td>2.0</td>\n",
       "      <td>1.0</td>\n",
       "      <td>1.350031e-13</td>\n",
       "      <td>3.552714e-15</td>\n",
       "      <td>4.0</td>\n",
       "      <td>0.0</td>\n",
       "      <td>0.0</td>\n",
       "      <td>1.0</td>\n",
       "      <td>4.0</td>\n",
       "      <td>4.0</td>\n",
       "      <td>4.0</td>\n",
       "      <td>0.998667</td>\n",
       "      <td>10.547899</td>\n",
       "      <td>5.134136</td>\n",
       "      <td>1.555306</td>\n",
       "      <td>0.975961</td>\n",
       "      <td>1.080511</td>\n",
       "      <td>185.000000</td>\n",
       "      <td>289.456488</td>\n",
       "      <td>1.0</td>\n",
       "    </tr>\n",
       "    <tr>\n",
       "      <th>3</th>\n",
       "      <td>2006-01-04</td>\n",
       "      <td>4.0</td>\n",
       "      <td>4.0</td>\n",
       "      <td>4.0</td>\n",
       "      <td>1.0</td>\n",
       "      <td>31.0</td>\n",
       "      <td>0.0</td>\n",
       "      <td>2.0</td>\n",
       "      <td>12.465737</td>\n",
       "      <td>10.582171</td>\n",
       "      <td>20.0</td>\n",
       "      <td>20.0</td>\n",
       "      <td>13.0</td>\n",
       "      <td>11.2</td>\n",
       "      <td>10.619048</td>\n",
       "      <td>0.0</td>\n",
       "      <td>9.0</td>\n",
       "      <td>9.0</td>\n",
       "      <td>8.0</td>\n",
       "      <td>7.0</td>\n",
       "      <td>7.000000e+00</td>\n",
       "      <td>7.000000e+00</td>\n",
       "      <td>4.0</td>\n",
       "      <td>7.0</td>\n",
       "      <td>0.0</td>\n",
       "      <td>0.0</td>\n",
       "      <td>4.0</td>\n",
       "      <td>4.0</td>\n",
       "      <td>4.0</td>\n",
       "      <td>0.997630</td>\n",
       "      <td>12.261274</td>\n",
       "      <td>10.547899</td>\n",
       "      <td>1.555306</td>\n",
       "      <td>0.981194</td>\n",
       "      <td>1.080511</td>\n",
       "      <td>275.000000</td>\n",
       "      <td>284.305497</td>\n",
       "      <td>1.0</td>\n",
       "    </tr>\n",
       "    <tr>\n",
       "      <th>4</th>\n",
       "      <td>2006-01-05</td>\n",
       "      <td>5.0</td>\n",
       "      <td>2.4</td>\n",
       "      <td>4.0</td>\n",
       "      <td>1.0</td>\n",
       "      <td>31.0</td>\n",
       "      <td>0.0</td>\n",
       "      <td>3.0</td>\n",
       "      <td>12.372589</td>\n",
       "      <td>12.465737</td>\n",
       "      <td>19.0</td>\n",
       "      <td>20.0</td>\n",
       "      <td>8.2</td>\n",
       "      <td>13.0</td>\n",
       "      <td>0.000000</td>\n",
       "      <td>1.0</td>\n",
       "      <td>13.0</td>\n",
       "      <td>12.0</td>\n",
       "      <td>11.0</td>\n",
       "      <td>11.0</td>\n",
       "      <td>1.100000e+01</td>\n",
       "      <td>4.000000e+00</td>\n",
       "      <td>4.0</td>\n",
       "      <td>4.0</td>\n",
       "      <td>7.0</td>\n",
       "      <td>0.0</td>\n",
       "      <td>4.0</td>\n",
       "      <td>4.0</td>\n",
       "      <td>4.0</td>\n",
       "      <td>0.996298</td>\n",
       "      <td>12.213913</td>\n",
       "      <td>12.261274</td>\n",
       "      <td>1.555033</td>\n",
       "      <td>0.984338</td>\n",
       "      <td>1.080511</td>\n",
       "      <td>272.000000</td>\n",
       "      <td>298.670957</td>\n",
       "      <td>1.0</td>\n",
       "    </tr>\n",
       "    <tr>\n",
       "      <th>...</th>\n",
       "      <td>...</td>\n",
       "      <td>...</td>\n",
       "      <td>...</td>\n",
       "      <td>...</td>\n",
       "      <td>...</td>\n",
       "      <td>...</td>\n",
       "      <td>...</td>\n",
       "      <td>...</td>\n",
       "      <td>...</td>\n",
       "      <td>...</td>\n",
       "      <td>...</td>\n",
       "      <td>...</td>\n",
       "      <td>...</td>\n",
       "      <td>...</td>\n",
       "      <td>...</td>\n",
       "      <td>...</td>\n",
       "      <td>...</td>\n",
       "      <td>...</td>\n",
       "      <td>...</td>\n",
       "      <td>...</td>\n",
       "      <td>...</td>\n",
       "      <td>...</td>\n",
       "      <td>...</td>\n",
       "      <td>...</td>\n",
       "      <td>...</td>\n",
       "      <td>...</td>\n",
       "      <td>...</td>\n",
       "      <td>...</td>\n",
       "      <td>...</td>\n",
       "      <td>...</td>\n",
       "      <td>...</td>\n",
       "      <td>...</td>\n",
       "      <td>...</td>\n",
       "      <td>...</td>\n",
       "      <td>...</td>\n",
       "      <td>...</td>\n",
       "      <td>...</td>\n",
       "      <td>...</td>\n",
       "    </tr>\n",
       "    <tr>\n",
       "      <th>6813</th>\n",
       "      <td>2024-08-27</td>\n",
       "      <td>240.0</td>\n",
       "      <td>9.8</td>\n",
       "      <td>1.0</td>\n",
       "      <td>8.0</td>\n",
       "      <td>31.0</td>\n",
       "      <td>0.0</td>\n",
       "      <td>1.0</td>\n",
       "      <td>48.272394</td>\n",
       "      <td>48.090492</td>\n",
       "      <td>15.0</td>\n",
       "      <td>14.0</td>\n",
       "      <td>2.2</td>\n",
       "      <td>0.3</td>\n",
       "      <td>35.904762</td>\n",
       "      <td>0.0</td>\n",
       "      <td>46.2</td>\n",
       "      <td>45.0</td>\n",
       "      <td>43.6</td>\n",
       "      <td>38.0</td>\n",
       "      <td>3.460000e+01</td>\n",
       "      <td>2.120000e+01</td>\n",
       "      <td>2.0</td>\n",
       "      <td>21.2</td>\n",
       "      <td>13.4</td>\n",
       "      <td>3.4</td>\n",
       "      <td>1.0</td>\n",
       "      <td>2.0</td>\n",
       "      <td>2.0</td>\n",
       "      <td>-0.563151</td>\n",
       "      <td>46.686113</td>\n",
       "      <td>46.173812</td>\n",
       "      <td>1.554008</td>\n",
       "      <td>1.000000</td>\n",
       "      <td>0.950382</td>\n",
       "      <td>247.771364</td>\n",
       "      <td>226.308021</td>\n",
       "      <td>0.0</td>\n",
       "    </tr>\n",
       "    <tr>\n",
       "      <th>6814</th>\n",
       "      <td>2024-08-28</td>\n",
       "      <td>241.0</td>\n",
       "      <td>3.0</td>\n",
       "      <td>2.0</td>\n",
       "      <td>8.0</td>\n",
       "      <td>31.0</td>\n",
       "      <td>0.0</td>\n",
       "      <td>2.0</td>\n",
       "      <td>41.617915</td>\n",
       "      <td>48.272394</td>\n",
       "      <td>16.0</td>\n",
       "      <td>15.0</td>\n",
       "      <td>9.1</td>\n",
       "      <td>2.2</td>\n",
       "      <td>5.571429</td>\n",
       "      <td>0.0</td>\n",
       "      <td>54.8</td>\n",
       "      <td>53.4</td>\n",
       "      <td>47.8</td>\n",
       "      <td>44.4</td>\n",
       "      <td>3.100000e+01</td>\n",
       "      <td>9.800000e+00</td>\n",
       "      <td>2.0</td>\n",
       "      <td>9.8</td>\n",
       "      <td>21.2</td>\n",
       "      <td>13.4</td>\n",
       "      <td>1.0</td>\n",
       "      <td>1.0</td>\n",
       "      <td>2.0</td>\n",
       "      <td>-0.548843</td>\n",
       "      <td>40.942395</td>\n",
       "      <td>46.686113</td>\n",
       "      <td>1.554251</td>\n",
       "      <td>1.000000</td>\n",
       "      <td>0.950382</td>\n",
       "      <td>204.084069</td>\n",
       "      <td>269.911128</td>\n",
       "      <td>0.0</td>\n",
       "    </tr>\n",
       "    <tr>\n",
       "      <th>6815</th>\n",
       "      <td>2024-08-29</td>\n",
       "      <td>242.0</td>\n",
       "      <td>5.6</td>\n",
       "      <td>2.0</td>\n",
       "      <td>8.0</td>\n",
       "      <td>31.0</td>\n",
       "      <td>0.0</td>\n",
       "      <td>3.0</td>\n",
       "      <td>38.894332</td>\n",
       "      <td>41.617915</td>\n",
       "      <td>14.0</td>\n",
       "      <td>16.0</td>\n",
       "      <td>0.0</td>\n",
       "      <td>9.1</td>\n",
       "      <td>2.285714</td>\n",
       "      <td>0.0</td>\n",
       "      <td>56.4</td>\n",
       "      <td>50.8</td>\n",
       "      <td>47.4</td>\n",
       "      <td>34.0</td>\n",
       "      <td>1.280000e+01</td>\n",
       "      <td>3.000000e+00</td>\n",
       "      <td>2.0</td>\n",
       "      <td>3.0</td>\n",
       "      <td>9.8</td>\n",
       "      <td>21.2</td>\n",
       "      <td>2.0</td>\n",
       "      <td>1.0</td>\n",
       "      <td>1.0</td>\n",
       "      <td>-0.534373</td>\n",
       "      <td>38.596337</td>\n",
       "      <td>40.942395</td>\n",
       "      <td>1.553773</td>\n",
       "      <td>1.000000</td>\n",
       "      <td>0.950382</td>\n",
       "      <td>256.838591</td>\n",
       "      <td>316.345774</td>\n",
       "      <td>0.0</td>\n",
       "    </tr>\n",
       "    <tr>\n",
       "      <th>6816</th>\n",
       "      <td>2024-08-30</td>\n",
       "      <td>243.0</td>\n",
       "      <td>3.2</td>\n",
       "      <td>2.0</td>\n",
       "      <td>8.0</td>\n",
       "      <td>31.0</td>\n",
       "      <td>0.0</td>\n",
       "      <td>4.0</td>\n",
       "      <td>34.315466</td>\n",
       "      <td>38.894332</td>\n",
       "      <td>15.0</td>\n",
       "      <td>14.0</td>\n",
       "      <td>10.0</td>\n",
       "      <td>0.0</td>\n",
       "      <td>8.095238</td>\n",
       "      <td>7.0</td>\n",
       "      <td>56.4</td>\n",
       "      <td>53.0</td>\n",
       "      <td>39.6</td>\n",
       "      <td>18.4</td>\n",
       "      <td>8.600000e+00</td>\n",
       "      <td>5.600000e+00</td>\n",
       "      <td>2.0</td>\n",
       "      <td>5.6</td>\n",
       "      <td>3.0</td>\n",
       "      <td>9.8</td>\n",
       "      <td>2.0</td>\n",
       "      <td>2.0</td>\n",
       "      <td>1.0</td>\n",
       "      <td>-0.519744</td>\n",
       "      <td>34.500316</td>\n",
       "      <td>38.596337</td>\n",
       "      <td>1.554008</td>\n",
       "      <td>0.993601</td>\n",
       "      <td>0.950382</td>\n",
       "      <td>235.982307</td>\n",
       "      <td>240.402610</td>\n",
       "      <td>0.0</td>\n",
       "    </tr>\n",
       "    <tr>\n",
       "      <th>6817</th>\n",
       "      <td>2024-08-31</td>\n",
       "      <td>244.0</td>\n",
       "      <td>19.2</td>\n",
       "      <td>3.0</td>\n",
       "      <td>8.0</td>\n",
       "      <td>31.0</td>\n",
       "      <td>0.0</td>\n",
       "      <td>5.0</td>\n",
       "      <td>46.652373</td>\n",
       "      <td>34.315466</td>\n",
       "      <td>15.0</td>\n",
       "      <td>15.0</td>\n",
       "      <td>0.9</td>\n",
       "      <td>10.0</td>\n",
       "      <td>0.380952</td>\n",
       "      <td>7.0</td>\n",
       "      <td>56.2</td>\n",
       "      <td>42.8</td>\n",
       "      <td>21.6</td>\n",
       "      <td>11.8</td>\n",
       "      <td>8.800000e+00</td>\n",
       "      <td>3.200000e+00</td>\n",
       "      <td>2.0</td>\n",
       "      <td>3.2</td>\n",
       "      <td>5.6</td>\n",
       "      <td>3.0</td>\n",
       "      <td>2.0</td>\n",
       "      <td>2.0</td>\n",
       "      <td>2.0</td>\n",
       "      <td>-0.504961</td>\n",
       "      <td>45.648317</td>\n",
       "      <td>34.500316</td>\n",
       "      <td>1.554008</td>\n",
       "      <td>0.987599</td>\n",
       "      <td>0.950382</td>\n",
       "      <td>187.592691</td>\n",
       "      <td>230.241020</td>\n",
       "      <td>0.0</td>\n",
       "    </tr>\n",
       "  </tbody>\n",
       "</table>\n",
       "<p>6818 rows × 38 columns</p>\n",
       "</div>"
      ],
      "text/plain": [
       "            Date    doy  Aquifer   PE  month  mday  is_holiday  wday  \\\n",
       "0     2006-01-01    1.0      0.0  4.0    1.0  31.0         1.0   6.0   \n",
       "1     2006-01-02    2.0      0.0  4.0    1.0  31.0         1.0   0.0   \n",
       "2     2006-01-03    3.0      7.0  4.0    1.0  31.0         1.0   1.0   \n",
       "3     2006-01-04    4.0      4.0  4.0    1.0  31.0         0.0   2.0   \n",
       "4     2006-01-05    5.0      2.4  4.0    1.0  31.0         0.0   3.0   \n",
       "...          ...    ...      ...  ...    ...   ...         ...   ...   \n",
       "6813  2024-08-27  240.0      9.8  1.0    8.0  31.0         0.0   1.0   \n",
       "6814  2024-08-28  241.0      3.0  2.0    8.0  31.0         0.0   2.0   \n",
       "6815  2024-08-29  242.0      5.6  2.0    8.0  31.0         0.0   3.0   \n",
       "6816  2024-08-30  243.0      3.2  2.0    8.0  31.0         0.0   4.0   \n",
       "6817  2024-08-31  244.0     19.2  3.0    8.0  31.0         0.0   5.0   \n",
       "\n",
       "            API     lagAPI  Tmax  Tmaxlag1   Sun  Sunlag1     WVRain  \\\n",
       "0      5.597142   6.996428  21.0      23.0   8.8     13.2   0.000000   \n",
       "1      4.477714   5.597142  24.0      21.0   6.9      8.8   0.000000   \n",
       "2     10.582171   4.477714  20.0      24.0  11.2      6.9   0.238095   \n",
       "3     12.465737  10.582171  20.0      20.0  13.0     11.2  10.619048   \n",
       "4     12.372589  12.465737  19.0      20.0   8.2     13.0   0.000000   \n",
       "...         ...        ...   ...       ...   ...      ...        ...   \n",
       "6813  48.272394  48.090492  15.0      14.0   2.2      0.3  35.904762   \n",
       "6814  41.617915  48.272394  16.0      15.0   9.1      2.2   5.571429   \n",
       "6815  38.894332  41.617915  14.0      16.0   0.0      9.1   2.285714   \n",
       "6816  34.315466  38.894332  15.0      14.0  10.0      0.0   8.095238   \n",
       "6817  46.652373  34.315466  15.0      15.0   0.9     10.0   0.380952   \n",
       "\n",
       "      KerburnRain  Rain_L7DAYS  Rain_L6DAYS  Rain_L5DAYS  Rain_L4DAYS  \\\n",
       "0             7.0          3.2          2.0          2.0          2.0   \n",
       "1             5.0          2.0          2.0          2.0          2.0   \n",
       "2            17.0          2.0          2.0          2.0          1.0   \n",
       "3             0.0          9.0          9.0          8.0          7.0   \n",
       "4             1.0         13.0         12.0         11.0         11.0   \n",
       "...           ...          ...          ...          ...          ...   \n",
       "6813          0.0         46.2         45.0         43.6         38.0   \n",
       "6814          0.0         54.8         53.4         47.8         44.4   \n",
       "6815          0.0         56.4         50.8         47.4         34.0   \n",
       "6816          7.0         56.4         53.0         39.6         18.4   \n",
       "6817          7.0         56.2         42.8         21.6         11.8   \n",
       "\n",
       "       Rain_L3DAYS   Rain_L2DAYS  Season  Rainlag1  Rainlag2  Rainlag3  \\\n",
       "0     2.000000e+00  1.000000e+00     4.0       1.0       1.0       0.0   \n",
       "1     1.000000e+00  0.000000e+00     4.0       0.0       1.0       1.0   \n",
       "2     1.350031e-13  3.552714e-15     4.0       0.0       0.0       1.0   \n",
       "3     7.000000e+00  7.000000e+00     4.0       7.0       0.0       0.0   \n",
       "4     1.100000e+01  4.000000e+00     4.0       4.0       7.0       0.0   \n",
       "...            ...           ...     ...       ...       ...       ...   \n",
       "6813  3.460000e+01  2.120000e+01     2.0      21.2      13.4       3.4   \n",
       "6814  3.100000e+01  9.800000e+00     2.0       9.8      21.2      13.4   \n",
       "6815  1.280000e+01  3.000000e+00     2.0       3.0       9.8      21.2   \n",
       "6816  8.600000e+00  5.600000e+00     2.0       5.6       3.0       9.8   \n",
       "6817  8.800000e+00  3.200000e+00     2.0       3.2       5.6       3.0   \n",
       "\n",
       "      PElag1  PElag2  PElag3     ANcyc    storage  Storagelag1  \\\n",
       "0        4.0     4.0     4.0  0.999852   6.270848     7.659231   \n",
       "1        4.0     4.0     4.0  0.999407   5.134136     6.270848   \n",
       "2        4.0     4.0     4.0  0.998667  10.547899     5.134136   \n",
       "3        4.0     4.0     4.0  0.997630  12.261274    10.547899   \n",
       "4        4.0     4.0     4.0  0.996298  12.213913    12.261274   \n",
       "...      ...     ...     ...       ...        ...          ...   \n",
       "6813     1.0     2.0     2.0 -0.563151  46.686113    46.173812   \n",
       "6814     1.0     1.0     2.0 -0.548843  40.942395    46.686113   \n",
       "6815     2.0     1.0     1.0 -0.534373  38.596337    40.942395   \n",
       "6816     2.0     2.0     1.0 -0.519744  34.500316    38.596337   \n",
       "6817     2.0     2.0     2.0 -0.504961  45.648317    34.500316   \n",
       "\n",
       "      Wellington Low Level fTemp  Wellington Low Level fPrecp  \\\n",
       "0                       1.555585                     0.992720   \n",
       "1                       1.556436                     0.988433   \n",
       "2                       1.555306                     0.975961   \n",
       "3                       1.555306                     0.981194   \n",
       "4                       1.555033                     0.984338   \n",
       "...                          ...                          ...   \n",
       "6813                    1.554008                     1.000000   \n",
       "6814                    1.554251                     1.000000   \n",
       "6815                    1.553773                     1.000000   \n",
       "6816                    1.554008                     0.993601   \n",
       "6817                    1.554008                     0.987599   \n",
       "\n",
       "      Wellington Low Level cm  Wellington Low Level stat  \\\n",
       "0                    1.080511                 199.000000   \n",
       "1                    1.080511                 174.000000   \n",
       "2                    1.080511                 185.000000   \n",
       "3                    1.080511                 275.000000   \n",
       "4                    1.080511                 272.000000   \n",
       "...                       ...                        ...   \n",
       "6813                 0.950382                 247.771364   \n",
       "6814                 0.950382                 204.084069   \n",
       "6815                 0.950382                 256.838591   \n",
       "6816                 0.950382                 235.982307   \n",
       "6817                 0.950382                 187.592691   \n",
       "\n",
       "      Wellington Low Level  Restriction level  \n",
       "0               267.710740                1.0  \n",
       "1               260.434133                1.0  \n",
       "2               289.456488                1.0  \n",
       "3               284.305497                1.0  \n",
       "4               298.670957                1.0  \n",
       "...                    ...                ...  \n",
       "6813            226.308021                0.0  \n",
       "6814            269.911128                0.0  \n",
       "6815            316.345774                0.0  \n",
       "6816            240.402610                0.0  \n",
       "6817            230.241020                0.0  \n",
       "\n",
       "[6818 rows x 38 columns]"
      ]
     },
     "execution_count": 9,
     "metadata": {},
     "output_type": "execute_result"
    }
   ],
   "source": [
    "pd.set_option(\"display.max_columns\", 500)\n",
    "df"
   ]
  },
  {
   "attachments": {},
   "cell_type": "markdown",
   "metadata": {},
   "source": [
    "Notice that the various columns have values in different ranges. For example, values under the target column ```Wellington Low Level``` are orders of magnitude higher than other columns. This difference in scale often causes issues when training an ML model, which is why it's a common feature engineering practice to normalize or standardize values (depending on the nature of the numeric distribution and presence of outliers).\n",
    "\n",
    "However, because Autopilot handles feature engineering automatically (among other things), we're not going to make any analysis or transformations ourselves.\n",
    "\n",
    "To also illustrate how Autopilot handles data issues, such as missing values, let's introduce some random empty values in our dataset for the housing median age column.\n"
   ]
  },
  {
   "cell_type": "code",
   "execution_count": 11,
   "metadata": {},
   "outputs": [],
   "source": [
    "# Split data for training and testing (80/20 split)\n",
    "num_rows = int(len(df) * 0.8)\n",
    "train_data = df[columns].iloc[:num_rows]\n",
    "test_data = df[columns].drop(train_data.index)\n",
    "test_data_no_target = test_data.drop(columns=[target])"
   ]
  },
  {
   "cell_type": "code",
   "execution_count": 38,
   "metadata": {},
   "outputs": [
    {
     "data": {
      "text/html": [
       "<div>\n",
       "<style scoped>\n",
       "    .dataframe tbody tr th:only-of-type {\n",
       "        vertical-align: middle;\n",
       "    }\n",
       "\n",
       "    .dataframe tbody tr th {\n",
       "        vertical-align: top;\n",
       "    }\n",
       "\n",
       "    .dataframe thead th {\n",
       "        text-align: right;\n",
       "    }\n",
       "</style>\n",
       "<table border=\"1\" class=\"dataframe\">\n",
       "  <thead>\n",
       "    <tr style=\"text-align: right;\">\n",
       "      <th></th>\n",
       "      <th>doy</th>\n",
       "      <th>Aquifer</th>\n",
       "      <th>PE</th>\n",
       "      <th>month</th>\n",
       "      <th>mday</th>\n",
       "      <th>is_holiday</th>\n",
       "      <th>wday</th>\n",
       "      <th>API</th>\n",
       "      <th>lagAPI</th>\n",
       "      <th>Tmax</th>\n",
       "      <th>Tmaxlag1</th>\n",
       "      <th>Sun</th>\n",
       "      <th>Sunlag1</th>\n",
       "      <th>WVRain</th>\n",
       "      <th>KerburnRain</th>\n",
       "      <th>Rain_L7DAYS</th>\n",
       "      <th>Rain_L6DAYS</th>\n",
       "      <th>Rain_L5DAYS</th>\n",
       "      <th>Rain_L4DAYS</th>\n",
       "      <th>Rain_L3DAYS</th>\n",
       "      <th>Rain_L2DAYS</th>\n",
       "      <th>Season</th>\n",
       "      <th>Rainlag1</th>\n",
       "      <th>Rainlag2</th>\n",
       "      <th>Rainlag3</th>\n",
       "      <th>PElag1</th>\n",
       "      <th>PElag2</th>\n",
       "      <th>PElag3</th>\n",
       "      <th>ANcyc</th>\n",
       "      <th>storage</th>\n",
       "      <th>Storagelag1</th>\n",
       "      <th>Wellington Low Level fTemp</th>\n",
       "      <th>Wellington Low Level fPrecp</th>\n",
       "      <th>Wellington Low Level cm</th>\n",
       "      <th>Wellington Low Level stat</th>\n",
       "      <th>Wellington Low Level</th>\n",
       "      <th>Restriction level</th>\n",
       "    </tr>\n",
       "  </thead>\n",
       "  <tbody>\n",
       "    <tr>\n",
       "      <th>5454</th>\n",
       "      <td>342.0</td>\n",
       "      <td>3.8</td>\n",
       "      <td>3.0</td>\n",
       "      <td>12.0</td>\n",
       "      <td>31.0</td>\n",
       "      <td>0.0</td>\n",
       "      <td>0.0</td>\n",
       "      <td>24.055759</td>\n",
       "      <td>25.319698</td>\n",
       "      <td>18.0</td>\n",
       "      <td>18.0</td>\n",
       "      <td>0.0</td>\n",
       "      <td>9.3</td>\n",
       "      <td>7.238095</td>\n",
       "      <td>11.0</td>\n",
       "      <td>18.8</td>\n",
       "      <td>6.0</td>\n",
       "      <td>6.0</td>\n",
       "      <td>6.0</td>\n",
       "      <td>6.0</td>\n",
       "      <td>4.6</td>\n",
       "      <td>4.0</td>\n",
       "      <td>4.6</td>\n",
       "      <td>1.4</td>\n",
       "      <td>0.0</td>\n",
       "      <td>4.0</td>\n",
       "      <td>4.0</td>\n",
       "      <td>6.0</td>\n",
       "      <td>0.915864</td>\n",
       "      <td>25.083764</td>\n",
       "      <td>26.430726</td>\n",
       "      <td>1.554765</td>\n",
       "      <td>0.983541</td>\n",
       "      <td>1.004235</td>\n",
       "      <td>233.000000</td>\n",
       "      <td>247.578613</td>\n",
       "      <td>1.0</td>\n",
       "    </tr>\n",
       "    <tr>\n",
       "      <th>5455</th>\n",
       "      <td>343.0</td>\n",
       "      <td>2.0</td>\n",
       "      <td>3.0</td>\n",
       "      <td>12.0</td>\n",
       "      <td>31.0</td>\n",
       "      <td>0.0</td>\n",
       "      <td>1.0</td>\n",
       "      <td>21.244607</td>\n",
       "      <td>24.055759</td>\n",
       "      <td>19.0</td>\n",
       "      <td>18.0</td>\n",
       "      <td>0.7</td>\n",
       "      <td>0.0</td>\n",
       "      <td>7.238095</td>\n",
       "      <td>2.0</td>\n",
       "      <td>9.8</td>\n",
       "      <td>9.8</td>\n",
       "      <td>9.8</td>\n",
       "      <td>9.8</td>\n",
       "      <td>8.4</td>\n",
       "      <td>3.8</td>\n",
       "      <td>4.0</td>\n",
       "      <td>3.8</td>\n",
       "      <td>4.6</td>\n",
       "      <td>1.4</td>\n",
       "      <td>3.0</td>\n",
       "      <td>4.0</td>\n",
       "      <td>4.0</td>\n",
       "      <td>0.922640</td>\n",
       "      <td>22.349541</td>\n",
       "      <td>25.083764</td>\n",
       "      <td>1.555033</td>\n",
       "      <td>0.988433</td>\n",
       "      <td>1.004235</td>\n",
       "      <td>238.000000</td>\n",
       "      <td>256.415580</td>\n",
       "      <td>1.0</td>\n",
       "    </tr>\n",
       "    <tr>\n",
       "      <th>5456</th>\n",
       "      <td>344.0</td>\n",
       "      <td>12.4</td>\n",
       "      <td>3.0</td>\n",
       "      <td>12.0</td>\n",
       "      <td>31.0</td>\n",
       "      <td>0.0</td>\n",
       "      <td>2.0</td>\n",
       "      <td>29.395686</td>\n",
       "      <td>21.244607</td>\n",
       "      <td>20.0</td>\n",
       "      <td>19.0</td>\n",
       "      <td>0.0</td>\n",
       "      <td>0.7</td>\n",
       "      <td>2.428571</td>\n",
       "      <td>31.0</td>\n",
       "      <td>11.8</td>\n",
       "      <td>11.8</td>\n",
       "      <td>11.8</td>\n",
       "      <td>10.4</td>\n",
       "      <td>5.8</td>\n",
       "      <td>2.0</td>\n",
       "      <td>4.0</td>\n",
       "      <td>2.0</td>\n",
       "      <td>3.8</td>\n",
       "      <td>4.6</td>\n",
       "      <td>3.0</td>\n",
       "      <td>3.0</td>\n",
       "      <td>4.0</td>\n",
       "      <td>0.929141</td>\n",
       "      <td>29.536950</td>\n",
       "      <td>22.349541</td>\n",
       "      <td>1.555306</td>\n",
       "      <td>0.965815</td>\n",
       "      <td>1.004235</td>\n",
       "      <td>221.000000</td>\n",
       "      <td>245.278866</td>\n",
       "      <td>1.0</td>\n",
       "    </tr>\n",
       "    <tr>\n",
       "      <th>5457</th>\n",
       "      <td>345.0</td>\n",
       "      <td>8.4</td>\n",
       "      <td>3.0</td>\n",
       "      <td>12.0</td>\n",
       "      <td>31.0</td>\n",
       "      <td>0.0</td>\n",
       "      <td>3.0</td>\n",
       "      <td>31.916548</td>\n",
       "      <td>29.395686</td>\n",
       "      <td>21.0</td>\n",
       "      <td>20.0</td>\n",
       "      <td>4.5</td>\n",
       "      <td>0.0</td>\n",
       "      <td>35.285714</td>\n",
       "      <td>6.0</td>\n",
       "      <td>24.2</td>\n",
       "      <td>24.2</td>\n",
       "      <td>22.8</td>\n",
       "      <td>18.2</td>\n",
       "      <td>14.4</td>\n",
       "      <td>12.4</td>\n",
       "      <td>4.0</td>\n",
       "      <td>12.4</td>\n",
       "      <td>2.0</td>\n",
       "      <td>3.8</td>\n",
       "      <td>3.0</td>\n",
       "      <td>3.0</td>\n",
       "      <td>3.0</td>\n",
       "      <td>0.935368</td>\n",
       "      <td>31.796118</td>\n",
       "      <td>29.536950</td>\n",
       "      <td>1.555585</td>\n",
       "      <td>0.969043</td>\n",
       "      <td>1.004235</td>\n",
       "      <td>267.000000</td>\n",
       "      <td>245.650488</td>\n",
       "      <td>1.0</td>\n",
       "    </tr>\n",
       "    <tr>\n",
       "      <th>5458</th>\n",
       "      <td>346.0</td>\n",
       "      <td>2.0</td>\n",
       "      <td>4.0</td>\n",
       "      <td>12.0</td>\n",
       "      <td>31.0</td>\n",
       "      <td>0.0</td>\n",
       "      <td>4.0</td>\n",
       "      <td>27.533239</td>\n",
       "      <td>31.916548</td>\n",
       "      <td>18.0</td>\n",
       "      <td>21.0</td>\n",
       "      <td>10.7</td>\n",
       "      <td>4.5</td>\n",
       "      <td>0.476190</td>\n",
       "      <td>26.0</td>\n",
       "      <td>32.6</td>\n",
       "      <td>31.2</td>\n",
       "      <td>26.6</td>\n",
       "      <td>22.8</td>\n",
       "      <td>20.8</td>\n",
       "      <td>8.4</td>\n",
       "      <td>4.0</td>\n",
       "      <td>8.4</td>\n",
       "      <td>12.4</td>\n",
       "      <td>2.0</td>\n",
       "      <td>3.0</td>\n",
       "      <td>3.0</td>\n",
       "      <td>3.0</td>\n",
       "      <td>0.941317</td>\n",
       "      <td>27.845152</td>\n",
       "      <td>31.796118</td>\n",
       "      <td>1.554765</td>\n",
       "      <td>0.954807</td>\n",
       "      <td>1.004235</td>\n",
       "      <td>275.000000</td>\n",
       "      <td>260.804830</td>\n",
       "      <td>1.0</td>\n",
       "    </tr>\n",
       "    <tr>\n",
       "      <th>...</th>\n",
       "      <td>...</td>\n",
       "      <td>...</td>\n",
       "      <td>...</td>\n",
       "      <td>...</td>\n",
       "      <td>...</td>\n",
       "      <td>...</td>\n",
       "      <td>...</td>\n",
       "      <td>...</td>\n",
       "      <td>...</td>\n",
       "      <td>...</td>\n",
       "      <td>...</td>\n",
       "      <td>...</td>\n",
       "      <td>...</td>\n",
       "      <td>...</td>\n",
       "      <td>...</td>\n",
       "      <td>...</td>\n",
       "      <td>...</td>\n",
       "      <td>...</td>\n",
       "      <td>...</td>\n",
       "      <td>...</td>\n",
       "      <td>...</td>\n",
       "      <td>...</td>\n",
       "      <td>...</td>\n",
       "      <td>...</td>\n",
       "      <td>...</td>\n",
       "      <td>...</td>\n",
       "      <td>...</td>\n",
       "      <td>...</td>\n",
       "      <td>...</td>\n",
       "      <td>...</td>\n",
       "      <td>...</td>\n",
       "      <td>...</td>\n",
       "      <td>...</td>\n",
       "      <td>...</td>\n",
       "      <td>...</td>\n",
       "      <td>...</td>\n",
       "      <td>...</td>\n",
       "    </tr>\n",
       "    <tr>\n",
       "      <th>6813</th>\n",
       "      <td>240.0</td>\n",
       "      <td>9.8</td>\n",
       "      <td>1.0</td>\n",
       "      <td>8.0</td>\n",
       "      <td>31.0</td>\n",
       "      <td>0.0</td>\n",
       "      <td>1.0</td>\n",
       "      <td>48.272394</td>\n",
       "      <td>48.090492</td>\n",
       "      <td>15.0</td>\n",
       "      <td>14.0</td>\n",
       "      <td>2.2</td>\n",
       "      <td>0.3</td>\n",
       "      <td>35.904762</td>\n",
       "      <td>0.0</td>\n",
       "      <td>46.2</td>\n",
       "      <td>45.0</td>\n",
       "      <td>43.6</td>\n",
       "      <td>38.0</td>\n",
       "      <td>34.6</td>\n",
       "      <td>21.2</td>\n",
       "      <td>2.0</td>\n",
       "      <td>21.2</td>\n",
       "      <td>13.4</td>\n",
       "      <td>3.4</td>\n",
       "      <td>1.0</td>\n",
       "      <td>2.0</td>\n",
       "      <td>2.0</td>\n",
       "      <td>-0.563151</td>\n",
       "      <td>46.686113</td>\n",
       "      <td>46.173812</td>\n",
       "      <td>1.554008</td>\n",
       "      <td>1.000000</td>\n",
       "      <td>0.950382</td>\n",
       "      <td>247.771364</td>\n",
       "      <td>226.308021</td>\n",
       "      <td>0.0</td>\n",
       "    </tr>\n",
       "    <tr>\n",
       "      <th>6814</th>\n",
       "      <td>241.0</td>\n",
       "      <td>3.0</td>\n",
       "      <td>2.0</td>\n",
       "      <td>8.0</td>\n",
       "      <td>31.0</td>\n",
       "      <td>0.0</td>\n",
       "      <td>2.0</td>\n",
       "      <td>41.617915</td>\n",
       "      <td>48.272394</td>\n",
       "      <td>16.0</td>\n",
       "      <td>15.0</td>\n",
       "      <td>9.1</td>\n",
       "      <td>2.2</td>\n",
       "      <td>5.571429</td>\n",
       "      <td>0.0</td>\n",
       "      <td>54.8</td>\n",
       "      <td>53.4</td>\n",
       "      <td>47.8</td>\n",
       "      <td>44.4</td>\n",
       "      <td>31.0</td>\n",
       "      <td>9.8</td>\n",
       "      <td>2.0</td>\n",
       "      <td>9.8</td>\n",
       "      <td>21.2</td>\n",
       "      <td>13.4</td>\n",
       "      <td>1.0</td>\n",
       "      <td>1.0</td>\n",
       "      <td>2.0</td>\n",
       "      <td>-0.548843</td>\n",
       "      <td>40.942395</td>\n",
       "      <td>46.686113</td>\n",
       "      <td>1.554251</td>\n",
       "      <td>1.000000</td>\n",
       "      <td>0.950382</td>\n",
       "      <td>204.084069</td>\n",
       "      <td>269.911128</td>\n",
       "      <td>0.0</td>\n",
       "    </tr>\n",
       "    <tr>\n",
       "      <th>6815</th>\n",
       "      <td>242.0</td>\n",
       "      <td>5.6</td>\n",
       "      <td>2.0</td>\n",
       "      <td>8.0</td>\n",
       "      <td>31.0</td>\n",
       "      <td>0.0</td>\n",
       "      <td>3.0</td>\n",
       "      <td>38.894332</td>\n",
       "      <td>41.617915</td>\n",
       "      <td>14.0</td>\n",
       "      <td>16.0</td>\n",
       "      <td>0.0</td>\n",
       "      <td>9.1</td>\n",
       "      <td>2.285714</td>\n",
       "      <td>0.0</td>\n",
       "      <td>56.4</td>\n",
       "      <td>50.8</td>\n",
       "      <td>47.4</td>\n",
       "      <td>34.0</td>\n",
       "      <td>12.8</td>\n",
       "      <td>3.0</td>\n",
       "      <td>2.0</td>\n",
       "      <td>3.0</td>\n",
       "      <td>9.8</td>\n",
       "      <td>21.2</td>\n",
       "      <td>2.0</td>\n",
       "      <td>1.0</td>\n",
       "      <td>1.0</td>\n",
       "      <td>-0.534373</td>\n",
       "      <td>38.596337</td>\n",
       "      <td>40.942395</td>\n",
       "      <td>1.553773</td>\n",
       "      <td>1.000000</td>\n",
       "      <td>0.950382</td>\n",
       "      <td>256.838591</td>\n",
       "      <td>316.345774</td>\n",
       "      <td>0.0</td>\n",
       "    </tr>\n",
       "    <tr>\n",
       "      <th>6816</th>\n",
       "      <td>243.0</td>\n",
       "      <td>3.2</td>\n",
       "      <td>2.0</td>\n",
       "      <td>8.0</td>\n",
       "      <td>31.0</td>\n",
       "      <td>0.0</td>\n",
       "      <td>4.0</td>\n",
       "      <td>34.315466</td>\n",
       "      <td>38.894332</td>\n",
       "      <td>15.0</td>\n",
       "      <td>14.0</td>\n",
       "      <td>10.0</td>\n",
       "      <td>0.0</td>\n",
       "      <td>8.095238</td>\n",
       "      <td>7.0</td>\n",
       "      <td>56.4</td>\n",
       "      <td>53.0</td>\n",
       "      <td>39.6</td>\n",
       "      <td>18.4</td>\n",
       "      <td>8.6</td>\n",
       "      <td>5.6</td>\n",
       "      <td>2.0</td>\n",
       "      <td>5.6</td>\n",
       "      <td>3.0</td>\n",
       "      <td>9.8</td>\n",
       "      <td>2.0</td>\n",
       "      <td>2.0</td>\n",
       "      <td>1.0</td>\n",
       "      <td>-0.519744</td>\n",
       "      <td>34.500316</td>\n",
       "      <td>38.596337</td>\n",
       "      <td>1.554008</td>\n",
       "      <td>0.993601</td>\n",
       "      <td>0.950382</td>\n",
       "      <td>235.982307</td>\n",
       "      <td>240.402610</td>\n",
       "      <td>0.0</td>\n",
       "    </tr>\n",
       "    <tr>\n",
       "      <th>6817</th>\n",
       "      <td>244.0</td>\n",
       "      <td>19.2</td>\n",
       "      <td>3.0</td>\n",
       "      <td>8.0</td>\n",
       "      <td>31.0</td>\n",
       "      <td>0.0</td>\n",
       "      <td>5.0</td>\n",
       "      <td>46.652373</td>\n",
       "      <td>34.315466</td>\n",
       "      <td>15.0</td>\n",
       "      <td>15.0</td>\n",
       "      <td>0.9</td>\n",
       "      <td>10.0</td>\n",
       "      <td>0.380952</td>\n",
       "      <td>7.0</td>\n",
       "      <td>56.2</td>\n",
       "      <td>42.8</td>\n",
       "      <td>21.6</td>\n",
       "      <td>11.8</td>\n",
       "      <td>8.8</td>\n",
       "      <td>3.2</td>\n",
       "      <td>2.0</td>\n",
       "      <td>3.2</td>\n",
       "      <td>5.6</td>\n",
       "      <td>3.0</td>\n",
       "      <td>2.0</td>\n",
       "      <td>2.0</td>\n",
       "      <td>2.0</td>\n",
       "      <td>-0.504961</td>\n",
       "      <td>45.648317</td>\n",
       "      <td>34.500316</td>\n",
       "      <td>1.554008</td>\n",
       "      <td>0.987599</td>\n",
       "      <td>0.950382</td>\n",
       "      <td>187.592691</td>\n",
       "      <td>230.241020</td>\n",
       "      <td>0.0</td>\n",
       "    </tr>\n",
       "  </tbody>\n",
       "</table>\n",
       "<p>1364 rows × 37 columns</p>\n",
       "</div>"
      ],
      "text/plain": [
       "        doy  Aquifer   PE  month  mday  is_holiday  wday        API  \\\n",
       "5454  342.0      3.8  3.0   12.0  31.0         0.0   0.0  24.055759   \n",
       "5455  343.0      2.0  3.0   12.0  31.0         0.0   1.0  21.244607   \n",
       "5456  344.0     12.4  3.0   12.0  31.0         0.0   2.0  29.395686   \n",
       "5457  345.0      8.4  3.0   12.0  31.0         0.0   3.0  31.916548   \n",
       "5458  346.0      2.0  4.0   12.0  31.0         0.0   4.0  27.533239   \n",
       "...     ...      ...  ...    ...   ...         ...   ...        ...   \n",
       "6813  240.0      9.8  1.0    8.0  31.0         0.0   1.0  48.272394   \n",
       "6814  241.0      3.0  2.0    8.0  31.0         0.0   2.0  41.617915   \n",
       "6815  242.0      5.6  2.0    8.0  31.0         0.0   3.0  38.894332   \n",
       "6816  243.0      3.2  2.0    8.0  31.0         0.0   4.0  34.315466   \n",
       "6817  244.0     19.2  3.0    8.0  31.0         0.0   5.0  46.652373   \n",
       "\n",
       "         lagAPI  Tmax  Tmaxlag1   Sun  Sunlag1     WVRain  KerburnRain  \\\n",
       "5454  25.319698  18.0      18.0   0.0      9.3   7.238095         11.0   \n",
       "5455  24.055759  19.0      18.0   0.7      0.0   7.238095          2.0   \n",
       "5456  21.244607  20.0      19.0   0.0      0.7   2.428571         31.0   \n",
       "5457  29.395686  21.0      20.0   4.5      0.0  35.285714          6.0   \n",
       "5458  31.916548  18.0      21.0  10.7      4.5   0.476190         26.0   \n",
       "...         ...   ...       ...   ...      ...        ...          ...   \n",
       "6813  48.090492  15.0      14.0   2.2      0.3  35.904762          0.0   \n",
       "6814  48.272394  16.0      15.0   9.1      2.2   5.571429          0.0   \n",
       "6815  41.617915  14.0      16.0   0.0      9.1   2.285714          0.0   \n",
       "6816  38.894332  15.0      14.0  10.0      0.0   8.095238          7.0   \n",
       "6817  34.315466  15.0      15.0   0.9     10.0   0.380952          7.0   \n",
       "\n",
       "      Rain_L7DAYS  Rain_L6DAYS  Rain_L5DAYS  Rain_L4DAYS  Rain_L3DAYS  \\\n",
       "5454         18.8          6.0          6.0          6.0          6.0   \n",
       "5455          9.8          9.8          9.8          9.8          8.4   \n",
       "5456         11.8         11.8         11.8         10.4          5.8   \n",
       "5457         24.2         24.2         22.8         18.2         14.4   \n",
       "5458         32.6         31.2         26.6         22.8         20.8   \n",
       "...           ...          ...          ...          ...          ...   \n",
       "6813         46.2         45.0         43.6         38.0         34.6   \n",
       "6814         54.8         53.4         47.8         44.4         31.0   \n",
       "6815         56.4         50.8         47.4         34.0         12.8   \n",
       "6816         56.4         53.0         39.6         18.4          8.6   \n",
       "6817         56.2         42.8         21.6         11.8          8.8   \n",
       "\n",
       "      Rain_L2DAYS  Season  Rainlag1  Rainlag2  Rainlag3  PElag1  PElag2  \\\n",
       "5454          4.6     4.0       4.6       1.4       0.0     4.0     4.0   \n",
       "5455          3.8     4.0       3.8       4.6       1.4     3.0     4.0   \n",
       "5456          2.0     4.0       2.0       3.8       4.6     3.0     3.0   \n",
       "5457         12.4     4.0      12.4       2.0       3.8     3.0     3.0   \n",
       "5458          8.4     4.0       8.4      12.4       2.0     3.0     3.0   \n",
       "...           ...     ...       ...       ...       ...     ...     ...   \n",
       "6813         21.2     2.0      21.2      13.4       3.4     1.0     2.0   \n",
       "6814          9.8     2.0       9.8      21.2      13.4     1.0     1.0   \n",
       "6815          3.0     2.0       3.0       9.8      21.2     2.0     1.0   \n",
       "6816          5.6     2.0       5.6       3.0       9.8     2.0     2.0   \n",
       "6817          3.2     2.0       3.2       5.6       3.0     2.0     2.0   \n",
       "\n",
       "      PElag3     ANcyc    storage  Storagelag1  Wellington Low Level fTemp  \\\n",
       "5454     6.0  0.915864  25.083764    26.430726                    1.554765   \n",
       "5455     4.0  0.922640  22.349541    25.083764                    1.555033   \n",
       "5456     4.0  0.929141  29.536950    22.349541                    1.555306   \n",
       "5457     3.0  0.935368  31.796118    29.536950                    1.555585   \n",
       "5458     3.0  0.941317  27.845152    31.796118                    1.554765   \n",
       "...      ...       ...        ...          ...                         ...   \n",
       "6813     2.0 -0.563151  46.686113    46.173812                    1.554008   \n",
       "6814     2.0 -0.548843  40.942395    46.686113                    1.554251   \n",
       "6815     1.0 -0.534373  38.596337    40.942395                    1.553773   \n",
       "6816     1.0 -0.519744  34.500316    38.596337                    1.554008   \n",
       "6817     2.0 -0.504961  45.648317    34.500316                    1.554008   \n",
       "\n",
       "      Wellington Low Level fPrecp  Wellington Low Level cm  \\\n",
       "5454                     0.983541                 1.004235   \n",
       "5455                     0.988433                 1.004235   \n",
       "5456                     0.965815                 1.004235   \n",
       "5457                     0.969043                 1.004235   \n",
       "5458                     0.954807                 1.004235   \n",
       "...                           ...                      ...   \n",
       "6813                     1.000000                 0.950382   \n",
       "6814                     1.000000                 0.950382   \n",
       "6815                     1.000000                 0.950382   \n",
       "6816                     0.993601                 0.950382   \n",
       "6817                     0.987599                 0.950382   \n",
       "\n",
       "      Wellington Low Level stat  Wellington Low Level  Restriction level  \n",
       "5454                 233.000000            247.578613                1.0  \n",
       "5455                 238.000000            256.415580                1.0  \n",
       "5456                 221.000000            245.278866                1.0  \n",
       "5457                 267.000000            245.650488                1.0  \n",
       "5458                 275.000000            260.804830                1.0  \n",
       "...                         ...                   ...                ...  \n",
       "6813                 247.771364            226.308021                0.0  \n",
       "6814                 204.084069            269.911128                0.0  \n",
       "6815                 256.838591            316.345774                0.0  \n",
       "6816                 235.982307            240.402610                0.0  \n",
       "6817                 187.592691            230.241020                0.0  \n",
       "\n",
       "[1364 rows x 37 columns]"
      ]
     },
     "execution_count": 38,
     "metadata": {},
     "output_type": "execute_result"
    }
   ],
   "source": [
    "test_data"
   ]
  },
  {
   "cell_type": "code",
   "execution_count": 12,
   "metadata": {},
   "outputs": [
    {
     "name": "stdout",
     "output_type": "stream",
     "text": [
      "Train data uploaded to: s3://sagemaker-ap-southeast-2-851725470721/sagemaker/autopilot-water-demand-prediction/train/train_data.csv\n",
      "Test data uploaded to: s3://sagemaker-ap-southeast-2-851725470721/sagemaker/autopilot-water-demand-prediction/test/test_data_no_target.csv\n"
     ]
    }
   ],
   "source": [
    "### Upload the dataset to S3\n",
    "\n",
    "train_file = \"train_data.csv\"\n",
    "train_data.to_csv(train_file, index=False, header=True)\n",
    "train_data_s3_path = session.upload_data(path=train_file, key_prefix=prefix + \"/train\")\n",
    "print(\"Train data uploaded to: \" + train_data_s3_path)\n",
    "\n",
    "test_file = \"test_data_no_target.csv\"\n",
    "test_data_no_target.to_csv(test_file, index=False, header=False)\n",
    "test_data_s3_path = session.upload_data(path=test_file, key_prefix=prefix + \"/test\")\n",
    "print(\"Test data uploaded to: \" + test_data_s3_path)"
   ]
  },
  {
   "attachments": {},
   "cell_type": "markdown",
   "metadata": {},
   "source": [
    "---\n",
    "## Setting up the SageMaker Autopilot Job<a name=\"Settingup\"></a>\n",
    "\n",
    "After uploading the dataset to Amazon S3, you can invoke Autopilot to find the best ML pipeline to train a model on this dataset. \n",
    "\n",
    "The required inputs for invoking an Autopilot job are:\n",
    "* Amazon S3 location for input dataset and for all output artifacts\n",
    "* Name of the target column in the dataset for predictions \n",
    "* An IAM role\n",
    "\n",
    "Currently, Autopilot supports only tabular datasets in CSV format. Either all files should have a header row, or the first file of the dataset, when sorted in alphabetical/lexical order by name, is expected to have a header row.\n"
   ]
  },
  {
   "cell_type": "code",
   "execution_count": 13,
   "metadata": {},
   "outputs": [],
   "source": [
    "input_data_config = [\n",
    "    {\n",
    "        \"DataSource\": {\n",
    "            \"S3DataSource\": {\n",
    "                \"S3DataType\": \"S3Prefix\",\n",
    "                \"S3Uri\": \"s3://{}/{}/train\".format(bucket, prefix),\n",
    "            }\n",
    "        },\n",
    "        \"TargetAttributeName\": target,\n",
    "    }\n",
    "]\n",
    "\n",
    "job_config = {\"CompletionCriteria\": {\"MaxCandidates\": 100}}\n",
    "\n",
    "\n",
    "output_data_config = {\"S3OutputPath\": \"s3://{}/{}/output\".format(bucket, prefix)}"
   ]
  },
  {
   "cell_type": "code",
   "execution_count": 14,
   "metadata": {},
   "outputs": [
    {
     "data": {
      "text/plain": [
       "[{'DataSource': {'S3DataSource': {'S3DataType': 'S3Prefix',\n",
       "    'S3Uri': 's3://sagemaker-ap-southeast-2-851725470721/sagemaker/autopilot-water-demand-prediction/train'}},\n",
       "  'TargetAttributeName': 'Wellington Low Level'}]"
      ]
     },
     "execution_count": 14,
     "metadata": {},
     "output_type": "execute_result"
    }
   ],
   "source": [
    "input_data_config"
   ]
  },
  {
   "attachments": {},
   "cell_type": "markdown",
   "metadata": {},
   "source": [
    "You can also specify the type of problem you want to solve with your dataset (`Regression, MulticlassClassification, BinaryClassification`). In case you are not sure, SageMaker Autopilot will infer the problem type based on statistics of the target column (the column you want to predict). \n",
    "\n",
    "Because the target attribute, ```Wellington Low Level```, is a continuous numeric variable, Autopilot will infer the problem type as regression. \n",
    "\n",
    "You have the option to limit the running time of a SageMaker Autopilot job by providing either the maximum number of pipeline evaluations or candidates (one pipeline evaluation is called a `Candidate` because it generates a candidate model) or providing the total time allocated for the overall Autopilot job. Under default settings, this job may take several hours to run. This varies between runs because of the nature of the exploratory process Autopilot uses to find optimal training parameters.\n",
    "\n",
    "For this demo, we limit the number of candidates to 10 so that the job finishes in under 1 hour.\n",
    "\n",
    "Finally, you also have the option to deploy the winning model to a SageMaker endpoint automatically upon completion. In this case, we will not deploy the endpoint. We'll run a batch prediction job later instead to evaluate our model.\n",
    "\n",
    "For guidance on how to configure the job parameters, check out the SDK documentation."
   ]
  },
  {
   "attachments": {},
   "cell_type": "markdown",
   "metadata": {},
   "source": [
    "### Launching the SageMaker Autopilot Job<a name=\"Launching\"></a>\n",
    "\n",
    "You can now launch the Autopilot job by calling the `create_auto_ml_job` API. "
   ]
  },
  {
   "cell_type": "code",
   "execution_count": 19,
   "metadata": {},
   "outputs": [
    {
     "name": "stdout",
     "output_type": "stream",
     "text": [
      "AutoMLJobName: automl-pcd-20250116-22-36\n"
     ]
    },
    {
     "data": {
      "text/plain": [
       "{'AutoMLJobArn': 'arn:aws:sagemaker:ap-southeast-2:851725470721:automl-job/automl-pcd-20250116-22-36',\n",
       " 'ResponseMetadata': {'RequestId': 'c2bedc01-7428-4c6a-9005-aa60b718f909',\n",
       "  'HTTPStatusCode': 200,\n",
       "  'HTTPHeaders': {'x-amzn-requestid': 'c2bedc01-7428-4c6a-9005-aa60b718f909',\n",
       "   'content-type': 'application/x-amz-json-1.1',\n",
       "   'content-length': '101',\n",
       "   'date': 'Thu, 16 Jan 2025 22:36:35 GMT'},\n",
       "  'RetryAttempts': 0}}"
      ]
     },
     "execution_count": 19,
     "metadata": {},
     "output_type": "execute_result"
    }
   ],
   "source": [
    "from time import gmtime, strftime, sleep\n",
    "\n",
    "timestamp_suffix = strftime(\"%Y%m%d-%H-%M\", gmtime())\n",
    "\n",
    "auto_ml_job_name = \"automl-pcd-\" + timestamp_suffix\n",
    "print(\"AutoMLJobName: \" + auto_ml_job_name)\n",
    "\n",
    "sm.create_auto_ml_job(\n",
    "    AutoMLJobName=auto_ml_job_name,\n",
    "    InputDataConfig=input_data_config,\n",
    "    OutputDataConfig=output_data_config,\n",
    "    AutoMLJobConfig=job_config,\n",
    "    # Uncomment to automatically deploy an endpoint\n",
    "    # ModelDeployConfig={\n",
    "    #'AutoGenerateEndpointName': True,\n",
    "    #'EndpointName': 'autopilot-DEMO-housing-' + timestamp_suffix\n",
    "    # },\n",
    "    RoleArn=role,\n",
    ")"
   ]
  },
  {
   "attachments": {},
   "cell_type": "markdown",
   "metadata": {},
   "source": [
    "---\n",
    "The Autopilot job will now be performing the following steps:\n",
    "\n",
    "* Data Analysis\n",
    "* Feature Engineering\n",
    "* Model selection\n",
    "* Model tuning (hyperparameter optimization)\n",
    "* Model feature importance (SageMaker Clarify)\n"
   ]
  },
  {
   "attachments": {},
   "cell_type": "markdown",
   "metadata": {},
   "source": [
    "### Tracking SageMaker Autopilot job progress"
   ]
  },
  {
   "cell_type": "code",
   "execution_count": 20,
   "metadata": {},
   "outputs": [
    {
     "name": "stdout",
     "output_type": "stream",
     "text": [
      "JobStatus - Secondary Status\n",
      "------------------------------\n",
      "InProgress - AnalyzingData\n",
      "InProgress - AnalyzingData\n",
      "InProgress - AnalyzingData\n",
      "InProgress - AnalyzingData\n",
      "InProgress - AnalyzingData\n",
      "InProgress - AnalyzingData\n",
      "InProgress - AnalyzingData\n",
      "InProgress - AnalyzingData\n",
      "InProgress - AnalyzingData\n",
      "InProgress - FeatureEngineering\n",
      "InProgress - FeatureEngineering\n",
      "InProgress - FeatureEngineering\n",
      "InProgress - FeatureEngineering\n",
      "InProgress - FeatureEngineering\n",
      "InProgress - FeatureEngineering\n",
      "InProgress - FeatureEngineering\n",
      "InProgress - FeatureEngineering\n",
      "InProgress - ModelTuning\n",
      "InProgress - ModelTuning\n",
      "InProgress - ModelTuning\n",
      "InProgress - ModelTuning\n",
      "InProgress - MergingAutoMLTaskReports\n",
      "InProgress - MergingAutoMLTaskReports\n",
      "InProgress - MergingAutoMLTaskReports\n",
      "InProgress - MergingAutoMLTaskReports\n",
      "InProgress - MergingAutoMLTaskReports\n",
      "InProgress - MergingAutoMLTaskReports\n",
      "InProgress - MergingAutoMLTaskReports\n",
      "InProgress - MergingAutoMLTaskReports\n",
      "Completed - Completed\n"
     ]
    }
   ],
   "source": [
    "print(\"JobStatus - Secondary Status\")\n",
    "print(\"------------------------------\")\n",
    "\n",
    "\n",
    "describe_response = sm.describe_auto_ml_job(AutoMLJobName=auto_ml_job_name)\n",
    "print(describe_response[\"AutoMLJobStatus\"] + \" - \" + describe_response[\"AutoMLJobSecondaryStatus\"])\n",
    "job_run_status = describe_response[\"AutoMLJobStatus\"]\n",
    "\n",
    "while job_run_status not in (\"Failed\", \"Completed\", \"Stopped\"):\n",
    "    describe_response = sm.describe_auto_ml_job(AutoMLJobName=auto_ml_job_name)\n",
    "    job_run_status = describe_response[\"AutoMLJobStatus\"]\n",
    "\n",
    "    print(\n",
    "        describe_response[\"AutoMLJobStatus\"] + \" - \" + describe_response[\"AutoMLJobSecondaryStatus\"]\n",
    "    )\n",
    "    sleep(60)"
   ]
  },
  {
   "attachments": {},
   "cell_type": "markdown",
   "metadata": {
    "toc-hr-collapsed": true
   },
   "source": [
    "---\n",
    "## Results\n",
    "\n",
    "Now you can use the ```describe_auto_ml_job``` API to look up the best candidate selected by the SageMaker Autopilot job. "
   ]
  },
  {
   "cell_type": "code",
   "execution_count": 21,
   "metadata": {},
   "outputs": [
    {
     "name": "stdout",
     "output_type": "stream",
     "text": [
      "\n",
      "\n",
      "CandidateName: automl-pcd-20250116-22-36iM0mIb0-001-9c2e06f8\n",
      "FinalAutoMLJobObjectiveMetricName: validation:mse\n",
      "FinalAutoMLJobObjectiveMetricValue: 442.61334228515625\n",
      "\n",
      "Best candidate details:: {'CandidateName': 'automl-pcd-20250116-22-36iM0mIb0-001-9c2e06f8', 'FinalAutoMLJobObjectiveMetric': {'MetricName': 'validation:mse', 'Value': 442.61334228515625, 'StandardMetricName': 'MSE'}, 'ObjectiveStatus': 'Succeeded', 'CandidateSteps': [{'CandidateStepType': 'AWS::SageMaker::ProcessingJob', 'CandidateStepArn': 'arn:aws:sagemaker:ap-southeast-2:851725470721:processing-job/automl-pcd-20250116-22-36-db-1-825e05792f184007bf22327de0f64a43', 'CandidateStepName': 'automl-pcd-20250116-22-36-db-1-825e05792f184007bf22327de0f64a43'}, {'CandidateStepType': 'AWS::SageMaker::TrainingJob', 'CandidateStepArn': 'arn:aws:sagemaker:ap-southeast-2:851725470721:training-job/automl-pcd-20250116-22-36-dpp1-1-6d7edebf95c74cf6adea546a25de3f', 'CandidateStepName': 'automl-pcd-20250116-22-36-dpp1-1-6d7edebf95c74cf6adea546a25de3f'}, {'CandidateStepType': 'AWS::SageMaker::TransformJob', 'CandidateStepArn': 'arn:aws:sagemaker:ap-southeast-2:851725470721:transform-job/automl-pcd-20250116-22-36-dpp1-rpb-1-7bbb14e5bd5d4578969565d5c5', 'CandidateStepName': 'automl-pcd-20250116-22-36-dpp1-rpb-1-7bbb14e5bd5d4578969565d5c5'}, {'CandidateStepType': 'AWS::SageMaker::TrainingJob', 'CandidateStepArn': 'arn:aws:sagemaker:ap-southeast-2:851725470721:training-job/automl-pcd-20250116-22-36iM0mIb0-001-9c2e06f8', 'CandidateStepName': 'automl-pcd-20250116-22-36iM0mIb0-001-9c2e06f8'}], 'CandidateStatus': 'Completed', 'InferenceContainers': [{'Image': '783357654285.dkr.ecr.ap-southeast-2.amazonaws.com/sagemaker-sklearn-automl:2.5-1-cpu-py3', 'ModelDataUrl': 's3://sagemaker-ap-southeast-2-851725470721/sagemaker/autopilot-water-demand-prediction/output/automl-pcd-20250116-22-36/data-processor-models/automl-pcd-20250116-22-36-dpp1-1-6d7edebf95c74cf6adea546a25de3f/output/model.tar.gz', 'Environment': {'AUTOML_SPARSE_ENCODE_RECORDIO_PROTOBUF': '1', 'AUTOML_TRANSFORM_MODE': 'feature-transform', 'SAGEMAKER_DEFAULT_INVOCATIONS_ACCEPT': 'application/x-recordio-protobuf', 'SAGEMAKER_PROGRAM': 'sagemaker_serve', 'SAGEMAKER_SUBMIT_DIRECTORY': '/opt/ml/model/code'}}, {'Image': '783357654285.dkr.ecr.ap-southeast-2.amazonaws.com/sagemaker-xgboost:1.3-1-cpu-py3', 'ModelDataUrl': 's3://sagemaker-ap-southeast-2-851725470721/sagemaker/autopilot-water-demand-prediction/output/automl-pcd-20250116-22-36/tuning/automl-pcd-dpp1-xgb/automl-pcd-20250116-22-36iM0mIb0-001-9c2e06f8/output/model.tar.gz', 'Environment': {'MAX_CONTENT_LENGTH': '20971520', 'SAGEMAKER_DEFAULT_INVOCATIONS_ACCEPT': 'text/csv'}}], 'CreationTime': datetime.datetime(2025, 1, 16, 22, 53, 34, tzinfo=tzlocal()), 'EndTime': datetime.datetime(2025, 1, 16, 22, 54, 58, tzinfo=tzlocal()), 'LastModifiedTime': datetime.datetime(2025, 1, 16, 22, 56, 28, 954000, tzinfo=tzlocal()), 'CandidateProperties': {'CandidateArtifactLocations': {'Explainability': 's3://sagemaker-ap-southeast-2-851725470721/sagemaker/autopilot-water-demand-prediction/output/automl-pcd-20250116-22-36/documentation/explainability/output', 'ModelInsights': 's3://sagemaker-ap-southeast-2-851725470721/sagemaker/autopilot-water-demand-prediction/output/automl-pcd-20250116-22-36/documentation/model_monitor/output'}, 'CandidateMetrics': [{'MetricName': 'MAE', 'Value': 15.59241008758545, 'Set': 'Validation', 'StandardMetricName': 'MAE'}, {'MetricName': 'RMSE', 'Value': 21.031110763549805, 'Set': 'Validation', 'StandardMetricName': 'RMSE'}, {'MetricName': 'MSE', 'Value': 442.61334228515625, 'Set': 'Validation', 'StandardMetricName': 'MSE'}, {'MetricName': 'R2', 'Value': 0.5401399731636047, 'Set': 'Validation', 'StandardMetricName': 'R2'}]}}\n"
     ]
    }
   ],
   "source": [
    "best_candidate = sm.describe_auto_ml_job(AutoMLJobName=auto_ml_job_name)[\"BestCandidate\"]\n",
    "best_candidate_name = best_candidate[\"CandidateName\"]\n",
    "\n",
    "print(\"\\n\")\n",
    "print(\"CandidateName: \" + best_candidate_name)\n",
    "print(\n",
    "    \"FinalAutoMLJobObjectiveMetricName: \"\n",
    "    + best_candidate[\"FinalAutoMLJobObjectiveMetric\"][\"MetricName\"]\n",
    ")\n",
    "print(\n",
    "    \"FinalAutoMLJobObjectiveMetricValue: \"\n",
    "    + str(best_candidate[\"FinalAutoMLJobObjectiveMetric\"][\"Value\"])\n",
    ")\n",
    "print(\"\\nBest candidate details:: \" + str(best_candidate))"
   ]
  },
  {
   "attachments": {},
   "cell_type": "markdown",
   "metadata": {},
   "source": [
    "If you are curious to explore the performance of other algorithms that Autopilot explored, you can enumerate them via ```list_candidates_for_auto_ml_job``` API call"
   ]
  },
  {
   "cell_type": "code",
   "execution_count": 22,
   "metadata": {},
   "outputs": [
    {
     "name": "stdout",
     "output_type": "stream",
     "text": [
      "automl-pcd-20250116-22-36iM0mIb0-004-6b9ba7e9 {'MetricName': 'validation:mse', 'Value': 464.0876159667969, 'StandardMetricName': 'MSE'}\n",
      "783357654285.dkr.ecr.ap-southeast-2.amazonaws.com/sagemaker-xgboost:1.3-1-cpu-py3 \n",
      "\n",
      "automl-pcd-20250116-22-36iM0mIb0-006-2d0cb701 {'MetricName': 'validation:mse', 'Value': 2478.029541015625, 'StandardMetricName': 'MSE'}\n",
      "712309505854.dkr.ecr.ap-southeast-2.amazonaws.com/linear-learner:inference-cpu \n",
      "\n",
      "automl-pcd-20250116-22-36iM0mIb0-008-7bca5ee1 {'MetricName': 'validation:mse', 'Value': 911.8873901367188, 'StandardMetricName': 'MSE'}\n",
      "712309505854.dkr.ecr.ap-southeast-2.amazonaws.com/linear-learner:inference-cpu \n",
      "\n",
      "automl-pcd-20250116-22-36iM0mIb0-010-3dbcb2ee {'MetricName': 'validation:mse', 'Value': 29322.36328125, 'StandardMetricName': 'MSE'}\n",
      "712309505854.dkr.ecr.ap-southeast-2.amazonaws.com/linear-learner:inference-cpu \n",
      "\n",
      "automl-pcd-20250116-22-36iM0mIb0-009-57e41e79 {'MetricName': 'validation:mse', 'Value': 3572.24853515625, 'StandardMetricName': 'MSE'}\n",
      "712309505854.dkr.ecr.ap-southeast-2.amazonaws.com/linear-learner:inference-cpu \n",
      "\n",
      "automl-pcd-20250116-22-36iM0mIb0-005-df6103e4 {'MetricName': 'validation:mse', 'Value': 610.9424438476562, 'StandardMetricName': 'MSE'}\n",
      "712309505854.dkr.ecr.ap-southeast-2.amazonaws.com/linear-learner:inference-cpu \n",
      "\n",
      "automl-pcd-20250116-22-36iM0mIb0-007-009f0d2e {'MetricName': 'validation:mse', 'Value': 35421.76171875, 'StandardMetricName': 'MSE'}\n",
      "712309505854.dkr.ecr.ap-southeast-2.amazonaws.com/linear-learner:inference-cpu \n",
      "\n",
      "automl-pcd-20250116-22-36iM0mIb0-001-9c2e06f8 {'MetricName': 'validation:mse', 'Value': 442.61334228515625, 'StandardMetricName': 'MSE'}\n",
      "783357654285.dkr.ecr.ap-southeast-2.amazonaws.com/sagemaker-xgboost:1.3-1-cpu-py3 \n",
      "\n",
      "automl-pcd-20250116-22-36iM0mIb0-003-dc66a4f0 {'MetricName': 'validation:mse', 'Value': 490.939208984375, 'StandardMetricName': 'MSE'}\n",
      "783357654285.dkr.ecr.ap-southeast-2.amazonaws.com/sagemaker-xgboost:1.3-1-cpu-py3 \n",
      "\n",
      "automl-pcd-20250116-22-36iM0mIb0-002-65278f95 {'MetricName': 'validation:mse', 'Value': 488.3301696777344, 'StandardMetricName': 'MSE'}\n",
      "783357654285.dkr.ecr.ap-southeast-2.amazonaws.com/sagemaker-xgboost:1.3-1-cpu-py3 \n",
      "\n"
     ]
    }
   ],
   "source": [
    "sm_dict = sm.list_candidates_for_auto_ml_job(AutoMLJobName=auto_ml_job_name)\n",
    "for item in sm_dict[\"Candidates\"]:\n",
    "    print(item[\"CandidateName\"], item[\"FinalAutoMLJobObjectiveMetric\"])\n",
    "    print(item[\"InferenceContainers\"][1][\"Image\"], \"\\n\")"
   ]
  },
  {
   "attachments": {},
   "cell_type": "markdown",
   "metadata": {},
   "source": [
    "---\n",
    "Autopilot automatically generates two executable Jupyter Notebooks:  \n",
    "\n",
    "- ```SageMakerAutopilotDataExplorationNotebook.ipynb```\n",
    "- ```SageMakerAutopilotCandidateDefinitionNotebook.ipynb```\n",
    "\n",
    "These notebooks are stored in S3. Let us download them onto our SageMaker Notebook instance, so we can explore them."
   ]
  },
  {
   "cell_type": "code",
   "execution_count": 23,
   "metadata": {},
   "outputs": [
    {
     "name": "stdout",
     "output_type": "stream",
     "text": [
      "sagemaker-ap-southeast-2-851725470721 sagemaker/autopilot-water-demand-prediction/output/automl-pcd-20250116-22-36/sagemaker-automl-candidates/automl-pcd-20250116-22-36-pr-1-acf2f2a634f04198ad0ab605c888b34b/notebooks/SageMakerAutopilotCandidateDefinitionNotebook.ipynb sagemaker/autopilot-water-demand-prediction/output/automl-pcd-20250116-22-36/sagemaker-automl-candidates/automl-pcd-20250116-22-36-pr-1-acf2f2a634f04198ad0ab605c888b34b/notebooks/SageMakerAutopilotDataExplorationNotebook.ipynb\n"
     ]
    },
    {
     "data": {
      "text/plain": [
       "['./SageMakerAutopilotDataExplorationNotebook.ipynb']"
      ]
     },
     "execution_count": 23,
     "metadata": {},
     "output_type": "execute_result"
    }
   ],
   "source": [
    "candidate_nbk = describe_response[\"AutoMLJobArtifacts\"][\"CandidateDefinitionNotebookLocation\"]\n",
    "data_explore_nbk = describe_response[\"AutoMLJobArtifacts\"][\"DataExplorationNotebookLocation\"]\n",
    "\n",
    "\n",
    "def split_s3_path(s3_path):\n",
    "    path_parts = s3_path.replace(\"s3://\", \"\").split(\"/\")\n",
    "    bucket = path_parts.pop(0)\n",
    "    key = \"/\".join(path_parts)\n",
    "    return bucket, key\n",
    "\n",
    "\n",
    "s3_bucket, candidate_nbk_key = split_s3_path(candidate_nbk)\n",
    "_, data_explore_nbk_key = split_s3_path(data_explore_nbk)\n",
    "\n",
    "print(s3_bucket, candidate_nbk_key, data_explore_nbk_key)\n",
    "\n",
    "session.download_data(path=\"./\", bucket=s3_bucket, key_prefix=candidate_nbk_key)\n",
    "\n",
    "session.download_data(path=\"./\", bucket=s3_bucket, key_prefix=data_explore_nbk_key)"
   ]
  },
  {
   "attachments": {},
   "cell_type": "markdown",
   "metadata": {},
   "source": [
    "#### Data Exploration and Candidate Generation Notebooks"
   ]
  },
  {
   "attachments": {},
   "cell_type": "markdown",
   "metadata": {},
   "source": [
    "**Take some time to inspect the Data Exploration notebook. Check the ```Column Analysis and Descriptive Statistics``` section to see the analysis carried out by Autopilot.**"
   ]
  },
  {
   "attachments": {},
   "cell_type": "markdown",
   "metadata": {},
   "source": [
    "**Now, take some time to inspect the Candidate Generation notebook. Check the ```Generated Candidates``` section to see the different algorithms and data transformation strategies used by Autopilot.**"
   ]
  },
  {
   "attachments": {},
   "cell_type": "markdown",
   "metadata": {},
   "source": [
    "---\n",
    "Autopilot also automatically generates a feature importance report.\n"
   ]
  },
  {
   "cell_type": "code",
   "execution_count": 24,
   "metadata": {},
   "outputs": [
    {
     "data": {
      "text/plain": [
       "['./automl-pcd-20250116-22-36iM0mIb0-001-9c2e06f8/analysis.json',\n",
       " './automl-pcd-20250116-22-36iM0mIb0-001-9c2e06f8/explanations_shap/baseline.csv',\n",
       " './automl-pcd-20250116-22-36iM0mIb0-001-9c2e06f8/explanations_shap/out.csv/._SUCCESS.crc',\n",
       " './automl-pcd-20250116-22-36iM0mIb0-001-9c2e06f8/explanations_shap/out.csv/.part-00000-77a53427-4e06-42e3-9287-aa1845422091-c000.csv.crc',\n",
       " './automl-pcd-20250116-22-36iM0mIb0-001-9c2e06f8/explanations_shap/out.csv/_SUCCESS',\n",
       " './automl-pcd-20250116-22-36iM0mIb0-001-9c2e06f8/explanations_shap/out.csv/part-00000-77a53427-4e06-42e3-9287-aa1845422091-c000.csv',\n",
       " './automl-pcd-20250116-22-36iM0mIb0-001-9c2e06f8/report.html',\n",
       " './automl-pcd-20250116-22-36iM0mIb0-001-9c2e06f8/report.ipynb',\n",
       " './automl-pcd-20250116-22-36iM0mIb0-001-9c2e06f8/report.pdf']"
      ]
     },
     "execution_count": 24,
     "metadata": {},
     "output_type": "execute_result"
    }
   ],
   "source": [
    "explainability_prefix = best_candidate[\"CandidateProperties\"][\"CandidateArtifactLocations\"][\n",
    "    \"Explainability\"\n",
    "]\n",
    "\n",
    "s3_bucket, explainability_dir = split_s3_path(explainability_prefix)\n",
    "\n",
    "session.download_data(path=\"./\", bucket=s3_bucket, key_prefix=explainability_dir)"
   ]
  },
  {
   "attachments": {},
   "cell_type": "markdown",
   "metadata": {},
   "source": [
    "The preceding code will download a directory to our local environment. In that directory (the prefix is the autopilot job name, the suffix is automatically generated), you should see the SageMaker Clarify artifacts. SageMaker Clarify provides greater visibility into training data and models to identify and limit bias and explain predictions. The following code will open the feature importance report:"
   ]
  },
  {
   "cell_type": "code",
   "execution_count": 25,
   "metadata": {},
   "outputs": [
    {
     "data": {
      "text/html": [
       "\n",
       "        <iframe\n",
       "            width=\"700\"\n",
       "            height=\"600\"\n",
       "            src=\"automl-pcd-20250116-22-36iM0mIb0-001-9c2e06f8/report.html\"\n",
       "            frameborder=\"0\"\n",
       "            allowfullscreen\n",
       "            \n",
       "        ></iframe>\n",
       "        "
      ],
      "text/plain": [
       "<IPython.lib.display.IFrame at 0x7f7f1a7b9570>"
      ]
     },
     "execution_count": 25,
     "metadata": {},
     "output_type": "execute_result"
    }
   ],
   "source": [
    "from IPython.display import IFrame\n",
    "\n",
    "# Fetch the auto-generated directory name for the SageMaker Clarify artifacts\n",
    "dir_name = (\n",
    "    session.list_s3_files(bucket=s3_bucket, key_prefix=explainability_dir)[0]\n",
    "    .replace(explainability_dir, \"\")\n",
    "    .split(\"/\")[1]\n",
    ")\n",
    "\n",
    "# Display HTML report\n",
    "IFrame(src=f\"{dir_name}/report.html\", width=700, height=600)"
   ]
  },
  {
   "attachments": {},
   "cell_type": "markdown",
   "metadata": {},
   "source": [
    "Your results may vary. But you're likely to see latitude and longitude (i.e., location) on top, along with population size and median income, which are stronger predictors of housing prices than the other features in the dataset."
   ]
  },
  {
   "attachments": {},
   "cell_type": "markdown",
   "metadata": {},
   "source": [
    "In SageMaker Studio, you can also navigate to SageMaker resources tab, click on Experiments and trials, and find your Autopilot experiment. You can double-click on the experiment name to list all trials, and from there you can double-click on a specific trial to see its details, including charts and metrics."
   ]
  },
  {
   "attachments": {},
   "cell_type": "markdown",
   "metadata": {},
   "source": [
    "---\n",
    "## Evaluate Model Using Test Dataset<a name=\"Evaluate\"></a>"
   ]
  },
  {
   "attachments": {},
   "cell_type": "markdown",
   "metadata": {},
   "source": [
    "To evaluate the model on previously unseen data, we will test it against the test dataset we prepared earlier. For that, we don't necessarily need to deploy the model to an endpoint, we can simply run a batch transform job to get predictions for our unlabeled test dataset."
   ]
  },
  {
   "attachments": {},
   "cell_type": "markdown",
   "metadata": {},
   "source": [
    "### Set up Transform Job"
   ]
  },
  {
   "cell_type": "code",
   "execution_count": 26,
   "metadata": {},
   "outputs": [],
   "source": [
    "from sagemaker import AutoML\n",
    "\n",
    "automl = AutoML.attach(auto_ml_job_name=auto_ml_job_name)\n",
    "\n",
    "s3_transform_output_path = \"s3://{}/{}/inference-results/\".format(s3_bucket, prefix)\n",
    "\n",
    "model_name = \"{0}-model\".format(best_candidate_name)\n",
    "\n",
    "model = automl.create_model(\n",
    "    name=model_name,\n",
    "    candidate=best_candidate,\n",
    ")\n",
    "\n",
    "output_path = s3_transform_output_path + best_candidate_name + \"/\"\n",
    "\n",
    "transformer = model.transformer(\n",
    "    instance_count=1,\n",
    "    instance_type=\"ml.m5.xlarge\",\n",
    "    assemble_with=\"Line\",\n",
    "    strategy=\"SingleRecord\",\n",
    "    output_path=output_path,\n",
    "    env={\"SAGEMAKER_MODEL_SERVER_TIMEOUT\": \"100\", \"SAGEMAKER_MODEL_SERVER_WORKERS\": \"1\"},\n",
    ")"
   ]
  },
  {
   "cell_type": "code",
   "execution_count": 41,
   "metadata": {},
   "outputs": [
    {
     "data": {
      "text/plain": [
       "'s3://sagemaker-ap-southeast-2-851725470721/sagemaker/autopilot-water-demand-prediction/inference-results/automl-pcd-20250116-22-36iM0mIb0-001-9c2e06f8/'"
      ]
     },
     "execution_count": 41,
     "metadata": {},
     "output_type": "execute_result"
    }
   ],
   "source": [
    "output_path"
   ]
  },
  {
   "cell_type": "code",
   "execution_count": 27,
   "metadata": {},
   "outputs": [
    {
     "data": {
      "text/plain": [
       "'automl-pcd-20250116-22-36iM0mIb0-001-9c2e06f8-model'"
      ]
     },
     "execution_count": 27,
     "metadata": {},
     "output_type": "execute_result"
    }
   ],
   "source": [
    "model_name"
   ]
  },
  {
   "cell_type": "code",
   "execution_count": 40,
   "metadata": {},
   "outputs": [
    {
     "data": {
      "text/plain": [
       "25"
      ]
     },
     "execution_count": 40,
     "metadata": {},
     "output_type": "execute_result"
    }
   ],
   "source": [
    "len('automl-pcd-20250116-22-36')"
   ]
  },
  {
   "attachments": {},
   "cell_type": "markdown",
   "metadata": {},
   "source": [
    "### Launch Transform Job"
   ]
  },
  {
   "cell_type": "code",
   "execution_count": 28,
   "metadata": {},
   "outputs": [
    {
     "name": "stderr",
     "output_type": "stream",
     "text": [
      "INFO:sagemaker:Creating transform job with name: automl-pcd-20250116-22-36iM0mIb0-001-9c-2025-01-17-00-29-18-506\n"
     ]
    },
    {
     "name": "stdout",
     "output_type": "stream",
     "text": [
      "Starting transform job automl-pcd-20250116-22-36iM0mIb0-001-9c-2025-01-17-00-29-18-506\n"
     ]
    }
   ],
   "source": [
    "transformer.transform(\n",
    "    data=test_data_s3_path,\n",
    "    split_type=\"Line\",\n",
    "    content_type=\"text/csv\",\n",
    "    wait=False,\n",
    "    model_client_config={\"InvocationsTimeoutInSeconds\": 80, \"InvocationsMaxRetries\": 1},\n",
    ")\n",
    "\n",
    "print(\"Starting transform job {}\".format(transformer._current_job_name))"
   ]
  },
  {
   "attachments": {},
   "cell_type": "markdown",
   "metadata": {},
   "source": [
    "#### Track Transform Job Status"
   ]
  },
  {
   "cell_type": "code",
   "execution_count": 29,
   "metadata": {},
   "outputs": [
    {
     "name": "stdout",
     "output_type": "stream",
     "text": [
      "automl-pcd-20250116-22-36iM0mIb0-001-9c-2025-01-17-00-29-18-506 transform job is running.\n",
      "automl-pcd-20250116-22-36iM0mIb0-001-9c-2025-01-17-00-29-18-506 transform job is running.\n",
      "automl-pcd-20250116-22-36iM0mIb0-001-9c-2025-01-17-00-29-18-506 transform job is running.\n",
      "automl-pcd-20250116-22-36iM0mIb0-001-9c-2025-01-17-00-29-18-506 transform job is running.\n",
      "automl-pcd-20250116-22-36iM0mIb0-001-9c-2025-01-17-00-29-18-506 transform job is running.\n",
      "automl-pcd-20250116-22-36iM0mIb0-001-9c-2025-01-17-00-29-18-506 transform job is running.\n",
      "automl-pcd-20250116-22-36iM0mIb0-001-9c-2025-01-17-00-29-18-506 transform job is running.\n",
      "\n",
      "Completed.\n"
     ]
    }
   ],
   "source": [
    "## Wait for jobs to finish\n",
    "pending_complete = True\n",
    "job_name = transformer._current_job_name\n",
    "\n",
    "while pending_complete:\n",
    "    pending_complete = False\n",
    "\n",
    "    description = sm.describe_transform_job(TransformJobName=job_name)\n",
    "    if description[\"TransformJobStatus\"] not in [\"Failed\", \"Completed\"]:\n",
    "        pending_complete = True\n",
    "\n",
    "    print(\"{} transform job is running.\".format(job_name))\n",
    "    time.sleep(60)\n",
    "\n",
    "print(\"\\nCompleted.\")"
   ]
  },
  {
   "attachments": {},
   "cell_type": "markdown",
   "metadata": {},
   "source": [
    "### Evaluate the Inference Results"
   ]
  },
  {
   "attachments": {},
   "cell_type": "markdown",
   "metadata": {},
   "source": [
    "The transform job will have now generated a CSV file with inference results for the test dataset. We will use those results and compare them with the real test labels to see how the model performs compared to real data."
   ]
  },
  {
   "cell_type": "code",
   "execution_count": 30,
   "metadata": {},
   "outputs": [],
   "source": [
    "def get_csv_from_s3(s3uri, file_name):\n",
    "    parsed_url = urlparse(s3uri)\n",
    "    bucket_name = parsed_url.netloc\n",
    "    prefix = parsed_url.path[1:].strip(\"/\")\n",
    "    s3 = boto3.resource(\"s3\")\n",
    "    obj = s3.Object(bucket_name, \"{}/{}\".format(prefix, file_name))\n",
    "    return obj.get()[\"Body\"].read().decode(\"utf-8\")\n",
    "\n",
    "\n",
    "job_status = sm.describe_transform_job(TransformJobName=job_name)[\"TransformJobStatus\"]\n",
    "\n",
    "if job_status == \"Completed\":\n",
    "    pred_csv = get_csv_from_s3(transformer.output_path, \"{}.out\".format(test_file))\n",
    "    predictions = pd.read_csv(io.StringIO(pred_csv), header=None)"
   ]
  },
  {
   "cell_type": "code",
   "execution_count": 33,
   "metadata": {},
   "outputs": [
    {
     "name": "stdout",
     "output_type": "stream",
     "text": [
      "MSE: 808.7343166315035\n",
      "RMSE: 28.438254458238177\n",
      "R2: -0.44913288680339725\n"
     ]
    }
   ],
   "source": [
    "from sklearn.metrics import mean_squared_error, r2_score\n",
    "from math import sqrt\n",
    "\n",
    "labels_df = test_data[target]\n",
    "mse = mean_squared_error(labels_df, predictions)\n",
    "rmse = sqrt(mse)\n",
    "r2 = r2_score(labels_df, predictions)\n",
    "\n",
    "print(\"MSE: {0}\\nRMSE: {1}\\nR2: {2}\".format(mse, rmse, r2))"
   ]
  },
  {
   "cell_type": "code",
   "execution_count": 37,
   "metadata": {},
   "outputs": [
    {
     "data": {
      "image/png": "[encoded data removed]",
      "text/plain": [
       "<Figure size 640x480 with 1 Axes>"
      ]
     },
     "metadata": {},
     "output_type": "display_data"
    }
   ],
   "source": [
    "import matplotlib.pyplot as plt\n",
    "\n",
    "plt.plot(labels_df.values, label=\"actual\")\n",
    "plt.plot(predictions.values, label=\"pred\")\n",
    "plt.legend()\n",
    "plt.show()"
   ]
  },
  {
   "cell_type": "code",
   "execution_count": 42,
   "metadata": {},
   "outputs": [
    {
     "data": {
      "text/plain": [
       "'automl-pcd-20250116-22-36'"
      ]
     },
     "execution_count": 42,
     "metadata": {},
     "output_type": "execute_result"
    }
   ],
   "source": [
    "auto_ml_job_name"
   ]
  },
  {
   "cell_type": "markdown",
   "metadata": {},
   "source": [
    "## Load Canvas AutoML model"
   ]
  },
  {
   "cell_type": "code",
   "execution_count": 44,
   "metadata": {},
   "outputs": [],
   "source": [
    "best_candidate_1 = sm.describe_auto_ml_job_v2(AutoMLJobName=\"Canvas1734649444174\")[\"BestCandidate\"]\n",
    "best_candidate_name_1 = best_candidate_1[\"CandidateName\"]"
   ]
  },
  {
   "cell_type": "code",
   "execution_count": 45,
   "metadata": {},
   "outputs": [
    {
     "data": {
      "text/plain": [
       "'Canvas1734649444174-trial-t1-1'"
      ]
     },
     "execution_count": 45,
     "metadata": {},
     "output_type": "execute_result"
    }
   ],
   "source": [
    "best_candidate_name_1"
   ]
  },
  {
   "cell_type": "code",
   "execution_count": 46,
   "metadata": {},
   "outputs": [
    {
     "name": "stdout",
     "output_type": "stream",
     "text": [
      "\n",
      "\n",
      "CandidateName: Canvas1734649444174-trial-t1-1\n",
      "FinalAutoMLJobObjectiveMetricName: R2\n",
      "FinalAutoMLJobObjectiveMetricValue: 0.4568800628185272\n",
      "\n",
      "Best candidate details:: {'CandidateName': 'Canvas1734649444174-trial-t1-1', 'FinalAutoMLJobObjectiveMetric': {'Type': 'Maximize', 'MetricName': 'R2', 'Value': 0.4568800628185272, 'StandardMetricName': 'R2'}, 'ObjectiveStatus': 'Succeeded', 'CandidateSteps': [{'CandidateStepType': 'AWS::SageMaker::TrainingJob', 'CandidateStepArn': 'arn:aws:sagemaker:ap-southeast-2:851725470721:training-job/Canvas1734649444174-t1-1-ab13d1607d2f468b800d6fb265b8d19f9c1cca', 'CandidateStepName': 'Canvas1734649444174-t1-1-ab13d1607d2f468b800d6fb265b8d19f9c1cca'}], 'CandidateStatus': 'Completed', 'InferenceContainers': [{'Image': '763104351884.dkr.ecr.ap-southeast-2.amazonaws.com/autogluon-inference:0.4.3-cpu-py38-ubuntu20.04', 'ModelDataUrl': 's3://sagemaker-ap-southeast-2-851725470721/Canvas/default-20240711t130962/Training/output/Canvas1734649444174/sagemaker-automl-candidates/model/Canvas1734649444174-trial-t1-1/model.tar.gz', 'Environment': {'SAGEMAKER_DEFAULT_INVOCATIONS_ACCEPT': 'text/csv', 'SAGEMAKER_INFERENCE_OUTPUT': 'predicted_label', 'SAGEMAKER_INFERENCE_SUPPORTED': 'predicted_label', 'SAGEMAKER_PROGRAM': 'tabular_serve.py', 'SAGEMAKER_SUBMIT_DIRECTORY': '/opt/ml/model/code'}}], 'CreationTime': datetime.datetime(2024, 12, 19, 23, 4, 6, 432000, tzinfo=tzlocal()), 'EndTime': datetime.datetime(2024, 12, 19, 23, 6, 27, 505000, tzinfo=tzlocal()), 'LastModifiedTime': datetime.datetime(2024, 12, 19, 23, 6, 34, 913000, tzinfo=tzlocal()), 'CandidateProperties': {'CandidateArtifactLocations': {'Explainability': 's3://sagemaker-ap-southeast-2-851725470721/Canvas/default-20240711t130962/Training/output/Canvas1734649444174/documentation/explainability/output/Canvas1734649444174-trial-t1-1', 'ModelInsights': 's3://sagemaker-ap-southeast-2-851725470721/Canvas/default-20240711t130962/Training/output/Canvas1734649444174/documentation/model_monitor/output/Canvas1734649444174-trial-t1-1'}, 'CandidateMetrics': [{'MetricName': 'RMSE', 'Value': 22.87061882019043, 'StandardMetricName': 'RMSE'}, {'MetricName': 'MSE', 'Value': 523.0652465820312, 'StandardMetricName': 'MSE'}, {'MetricName': 'MAE', 'Value': 17.76683235168457, 'StandardMetricName': 'MAE'}, {'MetricName': 'R2', 'Value': 0.4568800628185272, 'StandardMetricName': 'R2'}]}}\n"
     ]
    }
   ],
   "source": [
    "print(\"\\n\")\n",
    "print(\"CandidateName: \" + best_candidate_name_1)\n",
    "print(\n",
    "    \"FinalAutoMLJobObjectiveMetricName: \"\n",
    "    + best_candidate_1[\"FinalAutoMLJobObjectiveMetric\"][\"MetricName\"]\n",
    ")\n",
    "print(\n",
    "    \"FinalAutoMLJobObjectiveMetricValue: \"\n",
    "    + str(best_candidate_1[\"FinalAutoMLJobObjectiveMetric\"][\"Value\"])\n",
    ")\n",
    "print(\"\\nBest candidate details:: \" + str(best_candidate_1))"
   ]
  },
  {
   "cell_type": "code",
   "execution_count": null,
   "metadata": {},
   "outputs": [],
   "source": []
  },
  {
   "cell_type": "code",
   "execution_count": 64,
   "metadata": {
    "collapsed": true,
    "jupyter": {
     "outputs_hidden": true
    }
   },
   "outputs": [
    {
     "data": {
      "text/plain": [
       "{'AutoMLJobName': 'Canvas1734649444174',\n",
       " 'AutoMLJobArn': 'arn:aws:sagemaker:ap-southeast-2:851725470721:automl-job/Canvas1734649444174',\n",
       " 'AutoMLJobInputDataConfig': [{'ChannelType': 'training',\n",
       "   'ContentType': 'text/csv;header=present',\n",
       "   'CompressionType': 'None',\n",
       "   'DataSource': {'S3DataSource': {'S3DataType': 'S3Prefix',\n",
       "     'S3Uri': 's3://sagemaker-ap-southeast-2-851725470721/Canvas/default-20240711t130962/Datasets/80a35559-74dc-4851-ba61-032d4f3da5cf/1734649432.707784'}}}],\n",
       " 'OutputDataConfig': {'S3OutputPath': 's3://sagemaker-ap-southeast-2-851725470721/Canvas/default-20240711t130962/Training/output/'},\n",
       " 'RoleArn': 'arn:aws:iam::851725470721:role/service-role/AmazonSageMaker-ExecutionRole-20240711T130963',\n",
       " 'AutoMLJobObjective': {'MetricName': 'R2'},\n",
       " 'AutoMLProblemTypeConfig': {'TabularJobConfig': {'CandidateGenerationConfig': {},\n",
       "   'CompletionCriteria': {'MaxCandidates': 1},\n",
       "   'FeatureSpecificationS3Uri': 's3://sagemaker-ap-southeast-2-851725470721/Canvas/default-20240711t130962/Training/Canvas1734649444191/feature_specification.json',\n",
       "   'Mode': 'ENSEMBLING',\n",
       "   'GenerateCandidateDefinitionsOnly': False,\n",
       "   'ProblemType': 'Regression',\n",
       "   'TargetAttributeName': 'North Wellington Moa'}},\n",
       " 'AutoMLProblemTypeConfigName': 'Tabular',\n",
       " 'CreationTime': datetime.datetime(2024, 12, 19, 23, 4, 4, 314000, tzinfo=tzlocal()),\n",
       " 'EndTime': datetime.datetime(2024, 12, 19, 23, 6, 35, 693000, tzinfo=tzlocal()),\n",
       " 'LastModifiedTime': datetime.datetime(2024, 12, 19, 23, 6, 35, 726000, tzinfo=tzlocal()),\n",
       " 'BestCandidate': {'CandidateName': 'Canvas1734649444174-trial-t1-1',\n",
       "  'FinalAutoMLJobObjectiveMetric': {'Type': 'Maximize',\n",
       "   'MetricName': 'R2',\n",
       "   'Value': 0.4568800628185272,\n",
       "   'StandardMetricName': 'R2'},\n",
       "  'ObjectiveStatus': 'Succeeded',\n",
       "  'CandidateSteps': [{'CandidateStepType': 'AWS::SageMaker::TrainingJob',\n",
       "    'CandidateStepArn': 'arn:aws:sagemaker:ap-southeast-2:851725470721:training-job/Canvas1734649444174-t1-1-ab13d1607d2f468b800d6fb265b8d19f9c1cca',\n",
       "    'CandidateStepName': 'Canvas1734649444174-t1-1-ab13d1607d2f468b800d6fb265b8d19f9c1cca'}],\n",
       "  'CandidateStatus': 'Completed',\n",
       "  'InferenceContainers': [{'Image': '763104351884.dkr.ecr.ap-southeast-2.amazonaws.com/autogluon-inference:0.4.3-cpu-py38-ubuntu20.04',\n",
       "    'ModelDataUrl': 's3://sagemaker-ap-southeast-2-851725470721/Canvas/default-20240711t130962/Training/output/Canvas1734649444174/sagemaker-automl-candidates/model/Canvas1734649444174-trial-t1-1/model.tar.gz',\n",
       "    'Environment': {'SAGEMAKER_DEFAULT_INVOCATIONS_ACCEPT': 'text/csv',\n",
       "     'SAGEMAKER_INFERENCE_OUTPUT': 'predicted_label',\n",
       "     'SAGEMAKER_INFERENCE_SUPPORTED': 'predicted_label',\n",
       "     'SAGEMAKER_PROGRAM': 'tabular_serve.py',\n",
       "     'SAGEMAKER_SUBMIT_DIRECTORY': '/opt/ml/model/code'}}],\n",
       "  'CreationTime': datetime.datetime(2024, 12, 19, 23, 4, 6, 432000, tzinfo=tzlocal()),\n",
       "  'EndTime': datetime.datetime(2024, 12, 19, 23, 6, 27, 505000, tzinfo=tzlocal()),\n",
       "  'LastModifiedTime': datetime.datetime(2024, 12, 19, 23, 6, 34, 913000, tzinfo=tzlocal()),\n",
       "  'CandidateProperties': {'CandidateArtifactLocations': {'Explainability': 's3://sagemaker-ap-southeast-2-851725470721/Canvas/default-20240711t130962/Training/output/Canvas1734649444174/documentation/explainability/output/Canvas1734649444174-trial-t1-1',\n",
       "    'ModelInsights': 's3://sagemaker-ap-southeast-2-851725470721/Canvas/default-20240711t130962/Training/output/Canvas1734649444174/documentation/model_monitor/output/Canvas1734649444174-trial-t1-1'},\n",
       "   'CandidateMetrics': [{'MetricName': 'RMSE',\n",
       "     'Value': 22.87061882019043,\n",
       "     'StandardMetricName': 'RMSE'},\n",
       "    {'MetricName': 'MSE',\n",
       "     'Value': 523.0652465820312,\n",
       "     'StandardMetricName': 'MSE'},\n",
       "    {'MetricName': 'MAE',\n",
       "     'Value': 17.76683235168457,\n",
       "     'StandardMetricName': 'MAE'},\n",
       "    {'MetricName': 'R2',\n",
       "     'Value': 0.4568800628185272,\n",
       "     'StandardMetricName': 'R2'}]}},\n",
       " 'AutoMLJobStatus': 'Completed',\n",
       " 'AutoMLJobSecondaryStatus': 'Completed',\n",
       " 'AutoMLJobArtifacts': {'CandidateDefinitionNotebookLocation': 's3://sagemaker-ap-southeast-2-851725470721/Canvas/default-20240711t130962/Training/output/Canvas1734649444174/sagemaker-automl-candidates/notebooks/SageMakerAutopilotCandidateDefinitionNotebook.ipynb'},\n",
       " 'SecurityConfig': {'EnableInterContainerTrafficEncryption': True},\n",
       " 'ResponseMetadata': {'RequestId': 'd38ce8d8-c9e8-4b66-8ba5-bdbb57b8075c',\n",
       "  'HTTPStatusCode': 200,\n",
       "  'HTTPHeaders': {'x-amzn-requestid': 'd38ce8d8-c9e8-4b66-8ba5-bdbb57b8075c',\n",
       "   'content-type': 'application/x-amz-json-1.1',\n",
       "   'content-length': '3699',\n",
       "   'date': 'Fri, 17 Jan 2025 03:20:17 GMT'},\n",
       "  'RetryAttempts': 0}}"
      ]
     },
     "execution_count": 64,
     "metadata": {},
     "output_type": "execute_result"
    }
   ],
   "source": [
    "response"
   ]
  },
  {
   "cell_type": "code",
   "execution_count": 63,
   "metadata": {
    "collapsed": true,
    "jupyter": {
     "outputs_hidden": true
    }
   },
   "outputs": [
    {
     "data": {
      "text/plain": [
       "{'CandidateName': 'Canvas1734649444174-trial-t1-1',\n",
       " 'FinalAutoMLJobObjectiveMetric': {'Type': 'Maximize',\n",
       "  'MetricName': 'R2',\n",
       "  'Value': 0.4568800628185272,\n",
       "  'StandardMetricName': 'R2'},\n",
       " 'ObjectiveStatus': 'Succeeded',\n",
       " 'CandidateSteps': [{'CandidateStepType': 'AWS::SageMaker::TrainingJob',\n",
       "   'CandidateStepArn': 'arn:aws:sagemaker:ap-southeast-2:851725470721:training-job/Canvas1734649444174-t1-1-ab13d1607d2f468b800d6fb265b8d19f9c1cca',\n",
       "   'CandidateStepName': 'Canvas1734649444174-t1-1-ab13d1607d2f468b800d6fb265b8d19f9c1cca'}],\n",
       " 'CandidateStatus': 'Completed',\n",
       " 'InferenceContainers': [{'Image': '763104351884.dkr.ecr.ap-southeast-2.amazonaws.com/autogluon-inference:0.4.3-cpu-py38-ubuntu20.04',\n",
       "   'ModelDataUrl': 's3://sagemaker-ap-southeast-2-851725470721/Canvas/default-20240711t130962/Training/output/Canvas1734649444174/sagemaker-automl-candidates/model/Canvas1734649444174-trial-t1-1/model.tar.gz',\n",
       "   'Environment': {'SAGEMAKER_DEFAULT_INVOCATIONS_ACCEPT': 'text/csv',\n",
       "    'SAGEMAKER_INFERENCE_OUTPUT': 'predicted_label',\n",
       "    'SAGEMAKER_INFERENCE_SUPPORTED': 'predicted_label',\n",
       "    'SAGEMAKER_PROGRAM': 'tabular_serve.py',\n",
       "    'SAGEMAKER_SUBMIT_DIRECTORY': '/opt/ml/model/code'}}],\n",
       " 'CreationTime': datetime.datetime(2024, 12, 19, 23, 4, 6, 432000, tzinfo=tzlocal()),\n",
       " 'EndTime': datetime.datetime(2024, 12, 19, 23, 6, 27, 505000, tzinfo=tzlocal()),\n",
       " 'LastModifiedTime': datetime.datetime(2024, 12, 19, 23, 6, 34, 913000, tzinfo=tzlocal()),\n",
       " 'CandidateProperties': {'CandidateArtifactLocations': {'Explainability': 's3://sagemaker-ap-southeast-2-851725470721/Canvas/default-20240711t130962/Training/output/Canvas1734649444174/documentation/explainability/output/Canvas1734649444174-trial-t1-1',\n",
       "   'ModelInsights': 's3://sagemaker-ap-southeast-2-851725470721/Canvas/default-20240711t130962/Training/output/Canvas1734649444174/documentation/model_monitor/output/Canvas1734649444174-trial-t1-1'},\n",
       "  'CandidateMetrics': [{'MetricName': 'RMSE',\n",
       "    'Value': 22.87061882019043,\n",
       "    'StandardMetricName': 'RMSE'},\n",
       "   {'MetricName': 'MSE',\n",
       "    'Value': 523.0652465820312,\n",
       "    'StandardMetricName': 'MSE'},\n",
       "   {'MetricName': 'MAE',\n",
       "    'Value': 17.76683235168457,\n",
       "    'StandardMetricName': 'MAE'},\n",
       "   {'MetricName': 'R2',\n",
       "    'Value': 0.4568800628185272,\n",
       "    'StandardMetricName': 'R2'}]}}"
      ]
     },
     "execution_count": 63,
     "metadata": {},
     "output_type": "execute_result"
    }
   ],
   "source": [
    "best_candidate_1"
   ]
  },
  {
   "cell_type": "code",
   "execution_count": 70,
   "metadata": {},
   "outputs": [
    {
     "data": {
      "text/plain": [
       "'niwa-water-demand-modelling'"
      ]
     },
     "execution_count": 70,
     "metadata": {},
     "output_type": "execute_result"
    }
   ],
   "source": [
    "bucket_name"
   ]
  },
  {
   "cell_type": "code",
   "execution_count": 72,
   "metadata": {},
   "outputs": [
    {
     "data": {
      "text/plain": [
       "'Canvas1734649444174-trial-t1-1'"
      ]
     },
     "execution_count": 72,
     "metadata": {},
     "output_type": "execute_result"
    }
   ],
   "source": [
    "best_candidate_name_1"
   ]
  },
  {
   "cell_type": "code",
   "execution_count": 73,
   "metadata": {},
   "outputs": [
    {
     "data": {
      "text/plain": [
       "[{'Image': '763104351884.dkr.ecr.ap-southeast-2.amazonaws.com/autogluon-inference:0.4.3-cpu-py38-ubuntu20.04',\n",
       "  'ModelDataUrl': 's3://sagemaker-ap-southeast-2-851725470721/Canvas/default-20240711t130962/Training/output/Canvas1734649444174/sagemaker-automl-candidates/model/Canvas1734649444174-trial-t1-1/model.tar.gz',\n",
       "  'Environment': {'SAGEMAKER_DEFAULT_INVOCATIONS_ACCEPT': 'text/csv',\n",
       "   'SAGEMAKER_INFERENCE_OUTPUT': 'predicted_label',\n",
       "   'SAGEMAKER_INFERENCE_SUPPORTED': 'predicted_label',\n",
       "   'SAGEMAKER_PROGRAM': 'tabular_serve.py',\n",
       "   'SAGEMAKER_SUBMIT_DIRECTORY': '/opt/ml/model/code'}}]"
      ]
     },
     "execution_count": 73,
     "metadata": {},
     "output_type": "execute_result"
    }
   ],
   "source": [
    "best_candidate_1['InferenceContainers']"
   ]
  },
  {
   "cell_type": "code",
   "execution_count": 74,
   "metadata": {},
   "outputs": [
    {
     "name": "stderr",
     "output_type": "stream",
     "text": [
      "INFO:botocore.credentials:Found credentials in shared credentials file: ~/.aws/credentials\n"
     ]
    }
   ],
   "source": [
    "import sagemaker\n",
    "import boto3\n",
    "# from sagemaker.model import Model\n",
    "from sagemaker import get_execution_role\n",
    "from time import gmtime, strftime, sleep\n",
    "\n",
    "role = get_execution_role()\n",
    "region = boto3.Session().region_name\n",
    "\n",
    "# Initialize the SageMaker client\n",
    "sagemaker_client = boto3.client('sagemaker')\n",
    "\n",
    "# This is the client we will use to interact with SageMaker Autopilot\n",
    "sm = boto3.Session().client(service_name=\"sagemaker\", region_name=region)\n",
    "\n",
    "# Describe the AutoML job using the V2 API\n",
    "auto_ml_job_name_1 = \"Canvas1734649444174\"\n",
    "response = sagemaker_client.describe_auto_ml_job_v2(AutoMLJobName=auto_ml_job_name_1)\n",
    "\n",
    "# Extract the best candidate details\n",
    "best_candidate_1 = response['BestCandidate']\n",
    "best_candidate_name_1 = best_candidate_1['CandidateName']\n",
    "model_artifacts_1 = best_candidate_1['InferenceContainers'][0]['ModelDataUrl']\n",
    "image_uri_1 = best_candidate_1['InferenceContainers'][0]['Image']\n",
    "best_candidate_containers = best_candidate_1['InferenceContainers'] \n",
    "\n",
    "reponse = sm.create_model(\n",
    "    ModelName = best_candidate_name_1,\n",
    "    ExecutionRoleArn = role,\n",
    "    Containers = best_candidate_containers\n",
    ")\n"
   ]
  },
  {
   "cell_type": "code",
   "execution_count": 75,
   "metadata": {},
   "outputs": [
    {
     "data": {
      "text/plain": [
       "{'ModelArn': 'arn:aws:sagemaker:ap-southeast-2:851725470721:model/Canvas1734649444174-trial-t1-1',\n",
       " 'ResponseMetadata': {'RequestId': 'b8658ee9-09da-44f8-82c7-4cae4e577aad',\n",
       "  'HTTPStatusCode': 200,\n",
       "  'HTTPHeaders': {'x-amzn-requestid': 'b8658ee9-09da-44f8-82c7-4cae4e577aad',\n",
       "   'content-type': 'application/x-amz-json-1.1',\n",
       "   'content-length': '97',\n",
       "   'date': 'Fri, 17 Jan 2025 05:04:08 GMT'},\n",
       "  'RetryAttempts': 0}}"
      ]
     },
     "execution_count": 75,
     "metadata": {},
     "output_type": "execute_result"
    }
   ],
   "source": [
    "reponse"
   ]
  },
  {
   "cell_type": "code",
   "execution_count": 104,
   "metadata": {},
   "outputs": [
    {
     "name": "stdout",
     "output_type": "stream",
     "text": [
      "s3://niwa-water-demand-modelling/NorthWellingtonMoa/North Wellington Moa.csv\n"
     ]
    }
   ],
   "source": [
    "import boto3\n",
    "from io import StringIO\n",
    "\n",
    "# Initialize the S3 client\n",
    "s3 = boto3.client('s3')\n",
    "\n",
    "# Define the S3 bucket and prefix\n",
    "bucket_name = 'niwa-water-demand-modelling'\n",
    "prefix = 'Simulation/'\n",
    "\n",
    "# List objects in the specified S3 path\n",
    "response = s3.list_objects_v2(Bucket=bucket_name, Prefix=prefix)\n",
    "\n",
    "# Loop through the objects and look for CSV files containing \"Final_\"\n",
    "csv_files = []\n",
    "for obj in response.get('Contents', []):\n",
    "    key = obj['Key']\n",
    "    if 'Final_' in key and key.endswith('.csv'):\n",
    "        csv_files.append(key)\n",
    "\n",
    "# Print the list of CSV files\n",
    "# for csv_file in csv_files:\n",
    "# for csv_file in [\"Simulation/Final_HydroClimaticFile_ACCESS-CM2_ssp370/NorthWellingtonMoa/North Wellington Moa.csv\"]:\n",
    "for csv_file in ['NorthWellingtonMoa/North Wellington Moa.csv']:\n",
    "    print(f\"s3://{bucket_name}/{csv_file}\")\n",
    "    obj = s3.get_object(Bucket=bucket_name, Key=csv_file)\n",
    "    # Read the CSV file content\n",
    "    data = obj['Body'].read().decode('utf-8')\n",
    "    # Convert to DataFrame\n",
    "    df = pd.read_csv(StringIO(data))\n",
    "    target = csv_file.split(\"/\")[-1].split(\".csv\")[0]\n",
    "    columns = [e for e in df.columns if e not in [\"Date\", target, \"replicate\"]]\n",
    "    # Convert the DataFrame to a CSV string\n",
    "    csv_buffer = StringIO()\n",
    "    df[columns].to_csv(csv_buffer, index=False, header=False)\n",
    "    # Upload the CSV string to S3\n",
    "    file_name = csv_file.split(\"/\")[-1]\n",
    "    object_key = f\"TransformedInputs/batch_transform/input/{file_name}\"\n",
    "    s3.put_object(Bucket=bucket_name, Key=object_key, Body=csv_buffer.getvalue())\n"
   ]
  },
  {
   "cell_type": "code",
   "execution_count": 105,
   "metadata": {},
   "outputs": [
    {
     "data": {
      "text/plain": [
       "Date                            object\n",
       "doy                              int64\n",
       "Aquifer                        float64\n",
       "PE                               int64\n",
       "month                            int64\n",
       "mday                             int64\n",
       "is_holiday                       int64\n",
       "wday                             int64\n",
       "API                            float64\n",
       "lagAPI                         float64\n",
       "Tmax                             int64\n",
       "Tmaxlag1                       float64\n",
       "Sun                            float64\n",
       "Sunlag1                        float64\n",
       "WVRain                         float64\n",
       "KerburnRain                      int64\n",
       "Rain_L7DAYS                    float64\n",
       "Rain_L6DAYS                    float64\n",
       "Rain_L5DAYS                    float64\n",
       "Rain_L4DAYS                    float64\n",
       "Rain_L3DAYS                    float64\n",
       "Rain_L2DAYS                    float64\n",
       "Season                           int64\n",
       "Rainlag1                       float64\n",
       "Rainlag2                       float64\n",
       "Rainlag3                       float64\n",
       "PElag1                         float64\n",
       "PElag2                         float64\n",
       "PElag3                         float64\n",
       "ANcyc                          float64\n",
       "storage                        float64\n",
       "Storagelag1                    float64\n",
       "North Wellington Moa fTemp     float64\n",
       "North Wellington Moa fPrecp    float64\n",
       "North Wellington Moa cm        float64\n",
       "North Wellington Moa stat        int64\n",
       "North Wellington Moa           float64\n",
       "Restriction level              float64\n",
       "dtype: object"
      ]
     },
     "execution_count": 105,
     "metadata": {},
     "output_type": "execute_result"
    }
   ],
   "source": [
    "df.dtypes"
   ]
  },
  {
   "cell_type": "code",
   "execution_count": 14,
   "metadata": {},
   "outputs": [
    {
     "name": "stdout",
     "output_type": "stream",
     "text": [
      "BatchTransformJob: Canvas1734649444174-trial-t1-1-20250121-003918\n"
     ]
    }
   ],
   "source": [
    "# Create a SageMaker session\n",
    "sagemaker_session = sagemaker.Session()\n",
    "\n",
    "timestamp_suffix = strftime(\"%Y%m%d-%H%M%S\", gmtime())\n",
    "transform_job_name=f'{best_candidate_name}-' + timestamp_suffix\n",
    "print(\"BatchTransformJob: \" + transform_job_name)\n",
    "\n",
    "input_prefix = \"TransformedInputs\"\n",
    "output_prefix = \"TrainingDataInference\"\n",
    "\n",
    "response = sm.create_transform_job(\n",
    "    TransformJobName=transform_job_name, \n",
    "    ModelName=best_candidate_name,\n",
    "    MaxPayloadInMB=100,\n",
    "    ModelClientConfig={\n",
    "        'InvocationsTimeoutInSeconds': 3600\n",
    "    },\n",
    "    TransformInput={\n",
    "        'DataSource': {\n",
    "            'S3DataSource': {\n",
    "                'S3DataType': 'S3Prefix',\n",
    "                'S3Uri': 's3://{}/{}/batch_transform/input'.format(bucket_name, input_prefix)\n",
    "            }\n",
    "        },\n",
    "        'ContentType': 'text/csv',\n",
    "        'SplitType': 'Line'\n",
    "    },\n",
    "    TransformOutput={\n",
    "        'S3OutputPath': 's3://{}/{}/batch_transform/output/'.format(bucket_name, output_prefix),\n",
    "        'AssembleWith': 'Line',\n",
    "    },\n",
    "    TransformResources={\n",
    "        'InstanceType': 'ml.c5.4xlarge',#'ml.m5.12xlarge',\n",
    "        'InstanceCount': 1\n",
    "    }\n",
    "    )"
   ]
  },
  {
   "cell_type": "code",
   "execution_count": 15,
   "metadata": {},
   "outputs": [
    {
     "name": "stdout",
     "output_type": "stream",
     "text": [
      "2025-01-21 00:39:22.589267 InProgress\n",
      "2025-01-21 00:40:22.707896 InProgress\n",
      "2025-01-21 00:41:22.839579 InProgress\n",
      "2025-01-21 00:42:22.961887 InProgress\n",
      "2025-01-21 00:43:23.087095 InProgress\n",
      "2025-01-21 00:44:23.209799 Completed\n"
     ]
    }
   ],
   "source": [
    "import datetime\n",
    "\n",
    "describe_response = sm.describe_transform_job(TransformJobName=transform_job_name)\n",
    "\n",
    "job_run_status = describe_response[\"TransformJobStatus\"]\n",
    "\n",
    "while job_run_status not in (\"Failed\", \"Completed\", \"Stopped\"):\n",
    "    describe_response = sm.describe_transform_job(TransformJobName=transform_job_name)\n",
    "    job_run_status = describe_response[\"TransformJobStatus\"]\n",
    "\n",
    "    print(\n",
    "       datetime.datetime.now(), describe_response[\"TransformJobStatus\"]\n",
    "    )\n",
    "    sleep(60)"
   ]
  },
  {
   "cell_type": "code",
   "execution_count": 91,
   "metadata": {
    "collapsed": true,
    "jupyter": {
     "outputs_hidden": true
    }
   },
   "outputs": [
    {
     "data": {
      "text/plain": [
       "{'TransformJobName': 'Canvas1734649444174-trial-t1-1-20250117-060821',\n",
       " 'TransformJobArn': 'arn:aws:sagemaker:ap-southeast-2:851725470721:transform-job/Canvas1734649444174-trial-t1-1-20250117-060821',\n",
       " 'TransformJobStatus': 'Failed',\n",
       " 'FailureReason': 'ClientError: See job logs for more information',\n",
       " 'ModelName': 'Canvas1734649444174-trial-t1-1',\n",
       " 'ModelClientConfig': {'InvocationsTimeoutInSeconds': 3600},\n",
       " 'MaxPayloadInMB': 20,\n",
       " 'TransformInput': {'DataSource': {'S3DataSource': {'S3DataType': 'S3Prefix',\n",
       "    'S3Uri': 's3://niwa-water-demand-modelling/TransformedInputs/Simulation/Final_HydroClimaticFile_ACCESS-CM2_ssp370/NorthWellingtonMoa/'}},\n",
       "  'ContentType': 'text/csv',\n",
       "  'CompressionType': 'None',\n",
       "  'SplitType': 'None'},\n",
       " 'TransformOutput': {'S3OutputPath': 's3://niwa-water-demand-modelling/TrainingDataInference/',\n",
       "  'AssembleWith': 'Line',\n",
       "  'KmsKeyId': ''},\n",
       " 'TransformResources': {'InstanceType': 'ml.c5.4xlarge', 'InstanceCount': 1},\n",
       " 'CreationTime': datetime.datetime(2025, 1, 17, 6, 8, 21, 552000, tzinfo=tzlocal()),\n",
       " 'TransformStartTime': datetime.datetime(2025, 1, 17, 6, 11, 22, 457000, tzinfo=tzlocal()),\n",
       " 'TransformEndTime': datetime.datetime(2025, 1, 17, 6, 13, 24, 81000, tzinfo=tzlocal()),\n",
       " 'DataProcessing': {'InputFilter': '$',\n",
       "  'OutputFilter': '$',\n",
       "  'JoinSource': 'None'},\n",
       " 'ResponseMetadata': {'RequestId': '0fc6b406-06e0-4e47-8b3e-1aa9bf8d8c6e',\n",
       "  'HTTPStatusCode': 200,\n",
       "  'HTTPHeaders': {'x-amzn-requestid': '0fc6b406-06e0-4e47-8b3e-1aa9bf8d8c6e',\n",
       "   'content-type': 'application/x-amz-json-1.1',\n",
       "   'content-length': '1074',\n",
       "   'date': 'Fri, 17 Jan 2025 06:14:23 GMT'},\n",
       "  'RetryAttempts': 0}}"
      ]
     },
     "execution_count": 91,
     "metadata": {},
     "output_type": "execute_result"
    }
   ],
   "source": [
    "describe_response"
   ]
  },
  {
   "cell_type": "markdown",
   "metadata": {},
   "source": [
    "# Use models already trained Canvas for Inference"
   ]
  },
  {
   "cell_type": "markdown",
   "metadata": {},
   "source": [
    "## data prep, find simulation folders, find site folders under the respective simulation folder"
   ]
  },
  {
   "cell_type": "code",
   "execution_count": 4,
   "metadata": {},
   "outputs": [],
   "source": [
    "import boto3\n",
    "from io import StringIO\n",
    "\n",
    "# Initialize the S3 client\n",
    "s3 = boto3.client('s3')\n",
    "\n",
    "# Define the S3 bucket and prefix\n",
    "bucket_name = 'niwa-water-demand-modelling'\n",
    "prefix = 'Simulation/'\n",
    "\n",
    "# List objects in the specified S3 path\n",
    "response = s3.list_objects_v2(Bucket=bucket_name, Prefix=prefix)\n",
    "\n",
    "# Loop through the objects and look for CSV files containing \"Final_\"\n",
    "csv_files = []\n",
    "for obj in response.get('Contents', []):\n",
    "    key = obj['Key']\n",
    "    if 'Final_' in key and key.endswith('.csv'):\n",
    "        csv_files.append(key)\n"
   ]
  },
  {
   "cell_type": "code",
   "execution_count": 3,
   "metadata": {},
   "outputs": [],
   "source": [
    "auto_ml_job_dict = {\n",
    "    'NorthWellingtonMoa': 'Canvas1734649444174',\n",
    "    'WellingtonLowLevel': 'Canvas1734648978161',\n",
    "    'Petone': 'Canvas1733434154045',\n",
    "    'WellingtonHighWestern': 'Canvas1733085655509',\n",
    "    'WellingtonHighMoa': 'Canvas1733372214860',\n",
    "    'NorthWellingtonPorirua': 'Canvas1733369877242',\n",
    "    'Porirua': 'Canvas1733437572452',\n",
    "    'Wainuiomata': 'Canvas1734649248674',\n",
    "    'UpperHutt': 'Canvas1734649294393',\n",
    "    'LowerHutt': 'Canvas1734649384856'\n",
    "}"
   ]
  },
  {
   "cell_type": "code",
   "execution_count": 8,
   "metadata": {},
   "outputs": [
    {
     "data": {
      "text/plain": [
       "[('NorthWellingtonMoa', 'Canvas1734649444174'),\n",
       " ('WellingtonLowLevel', 'Canvas1734648978161'),\n",
       " ('Petone', 'Canvas1733434154045'),\n",
       " ('WellingtonHighWestern', 'Canvas1733085655509'),\n",
       " ('WellingtonHighMoa', 'Canvas1733372214860'),\n",
       " ('NorthWellingtonPorirua', 'Canvas1733369877242'),\n",
       " ('Porirua', 'Canvas1733437572452'),\n",
       " ('Wainuiomata', 'Canvas1734649248674'),\n",
       " ('UpperHutt', 'Canvas1734649294393'),\n",
       " ('LowerHutt', 'Canvas1734649384856')]"
      ]
     },
     "execution_count": 8,
     "metadata": {},
     "output_type": "execute_result"
    }
   ],
   "source": [
    "list(auto_ml_job_dict.items())"
   ]
  },
  {
   "cell_type": "markdown",
   "metadata": {},
   "source": [
    "## create model first using autoML job_id saved in the auto_ml_job_list"
   ]
  },
  {
   "cell_type": "code",
   "execution_count": 1,
   "metadata": {},
   "outputs": [
    {
     "name": "stdout",
     "output_type": "stream",
     "text": [
      "sagemaker.config INFO - Not applying SDK defaults from location: /etc/xdg/sagemaker/config.yaml\n",
      "sagemaker.config INFO - Not applying SDK defaults from location: /home/sagemaker-user/.config/sagemaker/config.yaml\n"
     ]
    },
    {
     "ename": "NameError",
     "evalue": "name 'auto_ml_job_dict' is not defined",
     "output_type": "error",
     "traceback": [
      "\u001b[0;31m---------------------------------------------------------------------------\u001b[0m",
      "\u001b[0;31mNameError\u001b[0m                                 Traceback (most recent call last)",
      "Cell \u001b[0;32mIn[1], line 22\u001b[0m\n\u001b[1;32m     19\u001b[0m \u001b[38;5;66;03m# This is the client we will use to interact with SageMaker Autopilot\u001b[39;00m\n\u001b[1;32m     20\u001b[0m sm \u001b[38;5;241m=\u001b[39m boto3\u001b[38;5;241m.\u001b[39mSession()\u001b[38;5;241m.\u001b[39mclient(service_name\u001b[38;5;241m=\u001b[39m\u001b[38;5;124m\"\u001b[39m\u001b[38;5;124msagemaker\u001b[39m\u001b[38;5;124m\"\u001b[39m, region_name\u001b[38;5;241m=\u001b[39mregion)\n\u001b[0;32m---> 22\u001b[0m \u001b[38;5;28;01mfor\u001b[39;00m site_name, auto_ml_job_name \u001b[38;5;129;01min\u001b[39;00m \u001b[38;5;28mlist\u001b[39m(\u001b[43mauto_ml_job_dict\u001b[49m\u001b[38;5;241m.\u001b[39mitems())[\u001b[38;5;241m0\u001b[39m:\u001b[38;5;241m1\u001b[39m]:\n\u001b[1;32m     23\u001b[0m     \u001b[38;5;66;03m# Describe the AutoML job using the V2 API\u001b[39;00m\n\u001b[1;32m     24\u001b[0m     \u001b[38;5;66;03m# auto_ml_job_name_1 = \"Canvas1734649444174\"\u001b[39;00m\n\u001b[1;32m     25\u001b[0m     response \u001b[38;5;241m=\u001b[39m sagemaker_client\u001b[38;5;241m.\u001b[39mdescribe_auto_ml_job_v2(AutoMLJobName\u001b[38;5;241m=\u001b[39mauto_ml_job_name)\n\u001b[1;32m     27\u001b[0m     \u001b[38;5;66;03m# Extract the best candidate details\u001b[39;00m\n",
      "\u001b[0;31mNameError\u001b[0m: name 'auto_ml_job_dict' is not defined"
     ]
    }
   ],
   "source": [
    "import sagemaker\n",
    "import boto3\n",
    "import datetime\n",
    "from io import StringIO\n",
    "import io\n",
    "import pandas as pd\n",
    "import numpy as np\n",
    "# from sagemaker.model import Model\n",
    "from sagemaker import get_execution_role\n",
    "from time import gmtime, strftime, sleep\n",
    "from botocore.exceptions import ClientError\n",
    "\n",
    "role = get_execution_role()\n",
    "region = boto3.Session().region_name\n",
    "\n",
    "# Initialize the SageMaker client\n",
    "sagemaker_client = boto3.client('sagemaker')\n",
    "\n",
    "# This is the client we will use to interact with SageMaker Autopilot\n",
    "sm = boto3.Session().client(service_name=\"sagemaker\", region_name=region)\n",
    "\n",
    "for site_name, auto_ml_job_name in list(auto_ml_job_dict.items())[0:1]:\n",
    "    # Describe the AutoML job using the V2 API\n",
    "    # auto_ml_job_name_1 = \"Canvas1734649444174\"\n",
    "    response = sagemaker_client.describe_auto_ml_job_v2(AutoMLJobName=auto_ml_job_name)\n",
    "    \n",
    "    # Extract the best candidate details\n",
    "    best_candidate = response['BestCandidate']\n",
    "    best_candidate_name = best_candidate['CandidateName']\n",
    "    model_artifacts = best_candidate['InferenceContainers'][0]['ModelDataUrl']\n",
    "    image_uri = best_candidate['InferenceContainers'][0]['Image']\n",
    "    best_candidate_containers = best_candidate['InferenceContainers'] \n",
    "\n",
    "    # model = sm.create_model(\n",
    "    #     ModelName = best_candidate_name,\n",
    "    #     ExecutionRoleArn = role,\n",
    "    #     Containers = best_candidate_containers\n",
    "    # )\n",
    "\n",
    "    # check if model exist\n",
    "    try:\n",
    "        response = sm.describe_model(ModelName=best_candidate_name)\n",
    "        print(f\"Model {best_candidate_name} exists. Loading the model.\")\n",
    "    # Load the model logic here\n",
    "    except ClientError as e:\n",
    "        if e.response['Error']['Code'] == 'ValidationException':\n",
    "            print(f\"Model {best_candidate_name} does not exist. Creating the model.\")\n",
    "            response = sm.create_model(\n",
    "                ModelName=best_candidate_name,\n",
    "                ExecutionRoleArn=role,\n",
    "                Containers=best_candidate_containers\n",
    "            )\n",
    "            print(f\"Model {model_name} created successfully.\")\n",
    "        else:\n",
    "            print(f\"Unexpected error: {e}\")\n",
    "\n",
    "    # Find all s3 paths for the same site\n",
    "    input_files = [e for e in csv_files if site_name in e]\n",
    "    for csv_file in input_files[1:2]:\n",
    "        print(f\"s3://{bucket_name}/{csv_file}\")\n",
    "        obj = s3.get_object(Bucket=bucket_name, Key=csv_file)\n",
    "        # Read the CSV file content\n",
    "        data = obj['Body'].read().decode('utf-8')\n",
    "        # Convert to DataFrame\n",
    "        df = pd.read_csv(StringIO(data))\n",
    "        target = csv_file.split(\"/\")[-1].split(\".csv\")[0]\n",
    "        columns = [e for e in df.columns if e not in [\"Date\", target, \"replicate\"]]\n",
    "        \n",
    "        # Upload the CSV string to S3\n",
    "        file_name = csv_file.split(\"/\")[-1]\n",
    "        \n",
    "        # Split the data into smaller chunks\n",
    "        chunk_size = 5000  # Adjust the chunk size as needed\n",
    "        chunks = [df[i:i + chunk_size] for i in range(0, df.shape[0], chunk_size)]\n",
    "\n",
    "        # Upload the chunks to S3\n",
    "        input_chunk_key_list = []\n",
    "        for idx, chunk in enumerate(chunks):\n",
    "            csv_buffer = StringIO()\n",
    "            chunk[columns].to_csv(csv_buffer, index=False, header=False)\n",
    "            chunk_csv_path = csv_file.replace(\".csv\", f\"_{idx}.csv\")\n",
    "            chunk_key = f\"TransformedInputs/{chunk_csv_path}\"\n",
    "            s3.put_object(Bucket=bucket_name, Key=chunk_key, Body=csv_buffer.getvalue())\n",
    "            print(f\"Uploaded chunk {idx} to s3://{bucket_name}/{chunk_key}\")\n",
    "            input_chunk_key_list.append(chunk_key)\n",
    "    "
   ]
  },
  {
   "cell_type": "code",
   "execution_count": 38,
   "metadata": {},
   "outputs": [
    {
     "data": {
      "text/plain": [
       "'TransformedInputs/Simulation/Final_HydroClimaticFile_ACCESS-CM2_ssp370/NorthWellingtonMoa/North Wellington Moa_9.csv'"
      ]
     },
     "execution_count": 38,
     "metadata": {},
     "output_type": "execute_result"
    }
   ],
   "source": [
    "chunk_key"
   ]
  },
  {
   "cell_type": "code",
   "execution_count": 39,
   "metadata": {},
   "outputs": [
    {
     "data": {
      "text/plain": [
       "'Canvas1734649444174-trial-t1-1'"
      ]
     },
     "execution_count": 39,
     "metadata": {},
     "output_type": "execute_result"
    }
   ],
   "source": [
    "best_candidate_name"
   ]
  },
  {
   "cell_type": "code",
   "execution_count": 40,
   "metadata": {},
   "outputs": [],
   "source": [
    "import re\n",
    "\n",
    "def convert_input_to_output_key(input_key):\n",
    "    # Split the input key by '/'\n",
    "    parts = input_key.split('/')\n",
    "    # Remove the first part 'TransformedInputs'\n",
    "    parts.pop(0)\n",
    "    # Remove the last part which is the file name\n",
    "    parts.pop()\n",
    "    # Join the remaining parts to form the output key\n",
    "    output_key = '/'.join(parts)\n",
    "    return output_key\n",
    "\n",
    "def extract_number(input_string):\n",
    "    # Use regular expression to find the number before '.csv'\n",
    "    match = re.search(r'_(\\d+)\\.csv$', input_string)\n",
    "    if match:\n",
    "        return int(match.group(1))\n",
    "    else:\n",
    "        return None"
   ]
  },
  {
   "cell_type": "code",
   "execution_count": 59,
   "metadata": {},
   "outputs": [],
   "source": [
    "def schedule_job(best_candidate_name, input_chunk_key, output_chunk_key, instance_type, bucket_name):\n",
    "    # Create a SageMaker session\n",
    "    sagemaker_session = sagemaker.Session()\n",
    "    timestamp_suffix = strftime(\"%Y%m%d-%H%M%S\", gmtime())\n",
    "    chunk_idx = extract_number(input_chunk_key)\n",
    "    transform_job_name=f'{best_candidate_name}-c{chunk_idx}-' + timestamp_suffix\n",
    "    print(f\"BatchTransformJob ({instance_type}): {transform_job_name} on {input_chunk_key}\")\n",
    "    \n",
    "    input_prefix = input_chunk_key\n",
    "    output_prefix = f\"TransformedOutputs/{output_chunk_key}\"\n",
    "    \n",
    "    response = sm.create_transform_job(\n",
    "        TransformJobName=transform_job_name, \n",
    "        ModelName=best_candidate_name,\n",
    "        MaxPayloadInMB=20,\n",
    "        BatchStrategy=\"MultiRecord\",\n",
    "        ModelClientConfig={\n",
    "            'InvocationsTimeoutInSeconds': 3600\n",
    "        },\n",
    "        TransformInput={\n",
    "            'DataSource': {\n",
    "                'S3DataSource': {\n",
    "                    'S3DataType': 'S3Prefix',\n",
    "                    'S3Uri': 's3://{}/{}'.format(bucket_name, input_prefix)\n",
    "                }\n",
    "            },\n",
    "            'ContentType': 'text/csv',\n",
    "            'SplitType': 'Line'\n",
    "        },\n",
    "        TransformOutput={\n",
    "            'S3OutputPath': 's3://{}/{}'.format(bucket_name, output_prefix),\n",
    "            'AssembleWith': 'Line',\n",
    "        },\n",
    "        TransformResources={\n",
    "            'InstanceType': instance_type, #'ml.c5.4xlarge', 'ml.m5.12xlarge',\n",
    "            'InstanceCount': 1\n",
    "        }\n",
    "        )\n",
    "    return transform_job_name\n",
    "\n",
    "def check_job_status(transform_job_name):\n",
    "    while True:\n",
    "        describe_response = sm.describe_transform_job(TransformJobName=transform_job_name)\n",
    "        job_run_status = describe_response[\"TransformJobStatus\"]\n",
    "        if job_run_status in (\"Failed\", \"Completed\", \"Stopped\"):\n",
    "            print(f\"{datetime.datetime.now()} {describe_response['TransformJobStatus']}\")\n",
    "            break\n",
    "        print(f\"{datetime.datetime.now()} {describe_response['TransformJobStatus']}\")\n",
    "        sleep(60)"
   ]
  },
  {
   "cell_type": "code",
   "execution_count": 61,
   "metadata": {},
   "outputs": [],
   "source": [
    "def get_job_status(job):\n",
    "    describe_response = sm.describe_transform_job(TransformJobName=job)\n",
    "    job_run_status = describe_response[\"TransformJobStatus\"]\n",
    "    return job_run_status\n",
    "\n",
    "def schedule_batch_transform_jobs(best_candidate_name, input_chunk_key_list, output_chunk_key_list, instance_types, bucket_name):\n",
    "    running_jobs = {instance_type: [] for instance_type in instance_types}\n",
    "    max_parallel_jobs = 4\n",
    "    input_index = 0\n",
    "\n",
    "    while input_index < len(input_chunk_key_list):\n",
    "        for instance_type in instance_types:\n",
    "            while len(running_jobs[instance_type]) < max_parallel_jobs and input_index < len(input_chunk_key_list):\n",
    "                # Schedule a new job\n",
    "                input_chunk_key = input_chunk_key_list[input_index]\n",
    "                output_chunk_key = output_chunk_key_list[input_index]\n",
    "                transform_job_name = schedule_job(best_candidate_name, input_chunk_key, output_chunk_key, instance_type, bucket_name)\n",
    "                running_jobs[instance_type].append(transform_job_name)\n",
    "                input_index += 1\n",
    "\n",
    "        # Check the status of running jobs and remove completed jobs from the list\n",
    "        all_running_jobs = []\n",
    "        for instance_type in instance_types:\n",
    "            for job in running_jobs[instance_type]:\n",
    "                check_job_status(job)\n",
    "            job_status_x = [job for job in running_jobs[instance_type] if get_job_status(job) not in (\"Failed\", \"Completed\", \"Stopped\")]\n",
    "            running_jobs[instance_type] = job_status_x\n",
    "            all_running_jobs.extend(job_status_x)\n",
    "        \n",
    "        if len(all_running_jobs) > 0:\n",
    "            sleep(60)  # jobs running, Wait before checking again\n",
    "        else:\n",
    "            sleep(1)  # no jobs running, don't sleep\n",
    "\n",
    "    # Wait for all remaining jobs to complete\n",
    "    for instance_type in instance_types:\n",
    "        while running_jobs[instance_type]:\n",
    "            for job in running_jobs[instance_type]:\n",
    "                check_job_status(job)\n",
    "            job_status_x = [job for job in running_jobs[instance_type] if get_job_status(job) not in (\"Failed\", \"Completed\", \"Stopped\")]\n",
    "            running_jobs[instance_type] = job_status_x\n",
    "            if len(job_status_x) > 0:\n",
    "                sleep(60)  # jobs running, Wait before checking again\n",
    "            else:\n",
    "                sleep(1)  # no jobs running, don't sleep"
   ]
  },
  {
   "cell_type": "code",
   "execution_count": 62,
   "metadata": {},
   "outputs": [
    {
     "name": "stdout",
     "output_type": "stream",
     "text": [
      "BatchTransformJob (ml.m5.xlarge): Canvas1734649444174-trial-t1-1-c0-20250121-042939 on TransformedInputs/Simulation/Final_HydroClimaticFile_AWI-CM-1-1-MR_ssp126/NorthWellingtonMoa/North Wellington Moa_0.csv\n",
      "BatchTransformJob (ml.m5.xlarge): Canvas1734649444174-trial-t1-1-c1-20250121-042940 on TransformedInputs/Simulation/Final_HydroClimaticFile_AWI-CM-1-1-MR_ssp126/NorthWellingtonMoa/North Wellington Moa_1.csv\n",
      "BatchTransformJob (ml.m5.xlarge): Canvas1734649444174-trial-t1-1-c2-20250121-042941 on TransformedInputs/Simulation/Final_HydroClimaticFile_AWI-CM-1-1-MR_ssp126/NorthWellingtonMoa/North Wellington Moa_2.csv\n",
      "BatchTransformJob (ml.c5.xlarge): Canvas1734649444174-trial-t1-1-c3-20250121-042942 on TransformedInputs/Simulation/Final_HydroClimaticFile_AWI-CM-1-1-MR_ssp126/NorthWellingtonMoa/North Wellington Moa_3.csv\n",
      "BatchTransformJob (ml.c5.xlarge): Canvas1734649444174-trial-t1-1-c4-20250121-042943 on TransformedInputs/Simulation/Final_HydroClimaticFile_AWI-CM-1-1-MR_ssp126/NorthWellingtonMoa/North Wellington Moa_4.csv\n",
      "BatchTransformJob (ml.c5.xlarge): Canvas1734649444174-trial-t1-1-c5-20250121-042944 on TransformedInputs/Simulation/Final_HydroClimaticFile_AWI-CM-1-1-MR_ssp126/NorthWellingtonMoa/North Wellington Moa_5.csv\n",
      "BatchTransformJob (ml.m5.2xlarge): Canvas1734649444174-trial-t1-1-c6-20250121-042945 on TransformedInputs/Simulation/Final_HydroClimaticFile_AWI-CM-1-1-MR_ssp126/NorthWellingtonMoa/North Wellington Moa_6.csv\n",
      "BatchTransformJob (ml.m5.2xlarge): Canvas1734649444174-trial-t1-1-c7-20250121-042947 on TransformedInputs/Simulation/Final_HydroClimaticFile_AWI-CM-1-1-MR_ssp126/NorthWellingtonMoa/North Wellington Moa_7.csv\n",
      "BatchTransformJob (ml.m5.2xlarge): Canvas1734649444174-trial-t1-1-c8-20250121-042948 on TransformedInputs/Simulation/Final_HydroClimaticFile_AWI-CM-1-1-MR_ssp126/NorthWellingtonMoa/North Wellington Moa_8.csv\n",
      "2025-01-21 04:29:49.728321 InProgress\n",
      "2025-01-21 04:30:49.852235 InProgress\n",
      "2025-01-21 04:31:49.971726 InProgress\n",
      "2025-01-21 04:32:50.095110 InProgress\n",
      "2025-01-21 04:33:50.208661 InProgress\n"
     ]
    },
    {
     "ename": "KeyboardInterrupt",
     "evalue": "",
     "output_type": "error",
     "traceback": [
      "\u001b[0;31m---------------------------------------------------------------------------\u001b[0m",
      "\u001b[0;31mKeyboardInterrupt\u001b[0m                         Traceback (most recent call last)",
      "Cell \u001b[0;32mIn[62], line 3\u001b[0m\n\u001b[1;32m      1\u001b[0m output_chunk_key_list \u001b[38;5;241m=\u001b[39m [convert_input_to_output_key(e) \u001b[38;5;28;01mfor\u001b[39;00m e \u001b[38;5;129;01min\u001b[39;00m input_chunk_key_list]\n\u001b[1;32m      2\u001b[0m instance_types \u001b[38;5;241m=\u001b[39m [\u001b[38;5;124m'\u001b[39m\u001b[38;5;124mml.m5.xlarge\u001b[39m\u001b[38;5;124m'\u001b[39m, \u001b[38;5;124m'\u001b[39m\u001b[38;5;124mml.c5.xlarge\u001b[39m\u001b[38;5;124m'\u001b[39m, \u001b[38;5;124m'\u001b[39m\u001b[38;5;124mml.m5.2xlarge\u001b[39m\u001b[38;5;124m'\u001b[39m]\n\u001b[0;32m----> 3\u001b[0m \u001b[43mschedule_batch_transform_jobs\u001b[49m\u001b[43m(\u001b[49m\u001b[43mbest_candidate_name\u001b[49m\u001b[43m,\u001b[49m\u001b[43m \u001b[49m\u001b[43minput_chunk_key_list\u001b[49m\u001b[43m,\u001b[49m\u001b[43m \u001b[49m\u001b[43moutput_chunk_key_list\u001b[49m\u001b[43m,\u001b[49m\u001b[43m \u001b[49m\u001b[43minstance_types\u001b[49m\u001b[43m,\u001b[49m\u001b[43m \u001b[49m\u001b[43mbucket_name\u001b[49m\u001b[43m)\u001b[49m\n",
      "Cell \u001b[0;32mIn[61], line 25\u001b[0m, in \u001b[0;36mschedule_batch_transform_jobs\u001b[0;34m(best_candidate_name, input_chunk_key_list, output_chunk_key_list, instance_types, bucket_name)\u001b[0m\n\u001b[1;32m     23\u001b[0m \u001b[38;5;28;01mfor\u001b[39;00m instance_type \u001b[38;5;129;01min\u001b[39;00m instance_types:\n\u001b[1;32m     24\u001b[0m     \u001b[38;5;28;01mfor\u001b[39;00m job \u001b[38;5;129;01min\u001b[39;00m running_jobs[instance_type]:\n\u001b[0;32m---> 25\u001b[0m         \u001b[43mcheck_job_status\u001b[49m\u001b[43m(\u001b[49m\u001b[43mjob\u001b[49m\u001b[43m)\u001b[49m\n\u001b[1;32m     26\u001b[0m     job_status_x \u001b[38;5;241m=\u001b[39m [job \u001b[38;5;28;01mfor\u001b[39;00m job \u001b[38;5;129;01min\u001b[39;00m running_jobs[instance_type] \u001b[38;5;28;01mif\u001b[39;00m get_job_status(job) \u001b[38;5;129;01mnot\u001b[39;00m \u001b[38;5;129;01min\u001b[39;00m (\u001b[38;5;124m\"\u001b[39m\u001b[38;5;124mFailed\u001b[39m\u001b[38;5;124m\"\u001b[39m, \u001b[38;5;124m\"\u001b[39m\u001b[38;5;124mCompleted\u001b[39m\u001b[38;5;124m\"\u001b[39m, \u001b[38;5;124m\"\u001b[39m\u001b[38;5;124mStopped\u001b[39m\u001b[38;5;124m\"\u001b[39m)]\n\u001b[1;32m     27\u001b[0m     running_jobs[instance_type] \u001b[38;5;241m=\u001b[39m job_status_x\n",
      "Cell \u001b[0;32mIn[59], line 49\u001b[0m, in \u001b[0;36mcheck_job_status\u001b[0;34m(transform_job_name)\u001b[0m\n\u001b[1;32m     47\u001b[0m     \u001b[38;5;28;01mbreak\u001b[39;00m\n\u001b[1;32m     48\u001b[0m \u001b[38;5;28mprint\u001b[39m(\u001b[38;5;124mf\u001b[39m\u001b[38;5;124m\"\u001b[39m\u001b[38;5;132;01m{\u001b[39;00mdatetime\u001b[38;5;241m.\u001b[39mdatetime\u001b[38;5;241m.\u001b[39mnow()\u001b[38;5;132;01m}\u001b[39;00m\u001b[38;5;124m \u001b[39m\u001b[38;5;132;01m{\u001b[39;00mdescribe_response[\u001b[38;5;124m'\u001b[39m\u001b[38;5;124mTransformJobStatus\u001b[39m\u001b[38;5;124m'\u001b[39m]\u001b[38;5;132;01m}\u001b[39;00m\u001b[38;5;124m\"\u001b[39m)\n\u001b[0;32m---> 49\u001b[0m \u001b[43msleep\u001b[49m\u001b[43m(\u001b[49m\u001b[38;5;241;43m60\u001b[39;49m\u001b[43m)\u001b[49m\n",
      "\u001b[0;31mKeyboardInterrupt\u001b[0m: "
     ]
    }
   ],
   "source": [
    "output_chunk_key_list = [convert_input_to_output_key(e) for e in input_chunk_key_list]\n",
    "instance_types = ['ml.m5.xlarge', 'ml.c5.xlarge', 'ml.m5.2xlarge']\n",
    "schedule_batch_transform_jobs(best_candidate_name, input_chunk_key_list, output_chunk_key_list, instance_types, bucket_name)"
   ]
  },
  {
   "cell_type": "code",
   "execution_count": 54,
   "metadata": {},
   "outputs": [
    {
     "data": {
      "text/plain": [
       "'niwa-water-demand-modelling'"
      ]
     },
     "execution_count": 54,
     "metadata": {},
     "output_type": "execute_result"
    }
   ],
   "source": [
    "bucket_name"
   ]
  },
  {
   "cell_type": "code",
   "execution_count": 48,
   "metadata": {},
   "outputs": [
    {
     "data": {
      "text/plain": [
       "'Canvas1734649444174-trial-t1-1'"
      ]
     },
     "execution_count": 48,
     "metadata": {},
     "output_type": "execute_result"
    }
   ],
   "source": [
    "best_candidate_name"
   ]
  },
  {
   "cell_type": "code",
   "execution_count": 28,
   "metadata": {},
   "outputs": [
    {
     "data": {
      "text/plain": [
       "['Canvas1734649444174-trial-t1-1-c0-20250121-021152',\n",
       " 'Canvas1734649444174-trial-t1-1-c1-20250121-021153',\n",
       " 'Canvas1734649444174-trial-t1-1-c2-20250121-021154']"
      ]
     },
     "execution_count": 28,
     "metadata": {},
     "output_type": "execute_result"
    }
   ],
   "source": [
    "job_list"
   ]
  },
  {
   "cell_type": "code",
   "execution_count": 31,
   "metadata": {},
   "outputs": [],
   "source": [
    "# wait for batch transform job to complete\n",
    "transform_job_name = job_list[2]\n",
    "describe_response = sm.describe_transform_job(TransformJobName=transform_job_name)\n",
    "job_run_status = describe_response[\"TransformJobStatus\"]\n",
    "while job_run_status not in (\"Failed\", \"Completed\", \"Stopped\"):\n",
    "    describe_response = sm.describe_transform_job(TransformJobName=transform_job_name)\n",
    "    job_run_status = describe_response[\"TransformJobStatus\"]\n",
    "\n",
    "    print(\n",
    "       datetime.datetime.now(), describe_response[\"TransformJobStatus\"]\n",
    "    )\n",
    "    sleep(60)"
   ]
  },
  {
   "cell_type": "code",
   "execution_count": 17,
   "metadata": {},
   "outputs": [
    {
     "data": {
      "text/plain": [
       "['Simulation/Final_HydroClimaticFile_ACCESS-CM2_ssp370/NorthWellingtonMoa/North Wellington Moa.csv',\n",
       " 'Simulation/Final_HydroClimaticFile_AWI-CM-1-1-MR_ssp126/NorthWellingtonMoa/North Wellington Moa.csv',\n",
       " 'Simulation/Final_HydroClimaticFile_AWI-CM-1-1-MR_ssp245/NorthWellingtonMoa/North Wellington Moa.csv',\n",
       " 'Simulation/Final_HydroClimaticFile_AWI-CM-1-1-MR_ssp370/NorthWellingtonMoa/North Wellington Moa.csv',\n",
       " 'Simulation/Final_HydroClimaticFile_CNRM-CM6-1_ssp126/NorthWellingtonMoa/North Wellington Moa.csv',\n",
       " 'Simulation/Final_HydroClimaticFile_CNRM-CM6-1_ssp245/NorthWellingtonMoa/North Wellington Moa.csv',\n",
       " 'Simulation/Final_HydroClimaticFile_CNRM-CM6-1_ssp370/NorthWellingtonMoa/North Wellington Moa.csv',\n",
       " 'Simulation/Final_HydroClimaticFile_EC-Earth3_ssp126/NorthWellingtonMoa/North Wellington Moa.csv',\n",
       " 'Simulation/Final_HydroClimaticFile_EC-Earth3_ssp245/NorthWellingtonMoa/North Wellington Moa.csv',\n",
       " 'Simulation/Final_HydroClimaticFile_EC-Earth3_ssp370/NorthWellingtonMoa/North Wellington Moa.csv',\n",
       " 'Simulation/Final_HydroClimaticFile_GFDL-ESM4_ssp126/NorthWellingtonMoa/North Wellington Moa.csv',\n",
       " 'Simulation/Final_HydroClimaticFile_GFDL-ESM4_ssp245/NorthWellingtonMoa/North Wellington Moa.csv',\n",
       " 'Simulation/Final_HydroClimaticFile_GFDL-ESM4_ssp370/NorthWellingtonMoa/North Wellington Moa.csv',\n",
       " 'Simulation/Final_HydroClimaticFile_NorESM2-MM_ssp126/NorthWellingtonMoa/North Wellington Moa.csv',\n",
       " 'Simulation/Final_HydroClimaticFile_NorESM2-MM_ssp245/NorthWellingtonMoa/North Wellington Moa.csv',\n",
       " 'Simulation/Final_HydroClimaticFile_NorESM2-MM_ssp370/NorthWellingtonMoa/North Wellington Moa.csv']"
      ]
     },
     "execution_count": 17,
     "metadata": {},
     "output_type": "execute_result"
    }
   ],
   "source": [
    "[e for e in csv_files if site_name in e]"
   ]
  },
  {
   "cell_type": "code",
   "execution_count": null,
   "metadata": {},
   "outputs": [],
   "source": [
    "import pandas as pd\n",
    "import boto3\n",
    "from io import StringIO\n",
    "\n",
    "# Load the input data from S3\n",
    "s3 = boto3.client('s3')\n",
    "bucket_name = 'niwa-water-demand-modelling'\n",
    "object_key = 'TrainingData/North Wellington Moa.csv'\n",
    "\n",
    "response = s3.get_object(Bucket=bucket_name, Key=object_key)\n",
    "data = pd.read_csv(response['Body'])\n",
    "\n",
    "# Split the data into smaller chunks\n",
    "chunk_size = 1000  # Adjust the chunk size as needed\n",
    "chunks = [data[i:i + chunk_size] for i in range(0, data.shape[0], chunk_size)]\n",
    "\n",
    "# Upload the chunks to S3\n",
    "for idx, chunk in enumerate(chunks):\n",
    "    csv_buffer = StringIO()\n",
    "    chunk.to_csv(csv_buffer, index=False)\n",
    "    chunk_key = f'TrainingData/North Wellington Moa_chunk_{idx}.csv'\n",
    "    s3.put_object(Bucket=bucket_name, Key=chunk_key, Body=csv_buffer.getvalue())\n",
    "    print(f\"Uploaded chunk {idx} to s3://{bucket_name}/{chunk_key}\")"
   ]
  },
  {
   "cell_type": "markdown",
   "metadata": {},
   "source": [
    "## data prep, for respective site files under all simulation folders and process each of them"
   ]
  },
  {
   "cell_type": "code",
   "execution_count": null,
   "metadata": {},
   "outputs": [],
   "source": [
    "# Print the list of CSV files\n",
    "# for csv_file in csv_files:\n",
    "# for csv_file in [\"Simulation/Final_HydroClimaticFile_ACCESS-CM2_ssp370/NorthWellingtonMoa/North Wellington Moa.csv\"]:\n",
    "for csv_file in ['NorthWellingtonMoa/North Wellington Moa.csv']:\n",
    "    print(f\"s3://{bucket_name}/{csv_file}\")\n",
    "    obj = s3.get_object(Bucket=bucket_name, Key=csv_file)\n",
    "    # Read the CSV file content\n",
    "    data = obj['Body'].read().decode('utf-8')\n",
    "    # Convert to DataFrame\n",
    "    df = pd.read_csv(StringIO(data))\n",
    "    target = csv_file.split(\"/\")[-1].split(\".csv\")[0]\n",
    "    columns = [e for e in df.columns if e not in [\"Date\", target, \"replicate\"]]\n",
    "    # Convert the DataFrame to a CSV string\n",
    "    csv_buffer = StringIO()\n",
    "    df[columns].to_csv(csv_buffer, index=False, header=False)\n",
    "    # Upload the CSV string to S3\n",
    "    file_name = csv_file.split(\"/\")[-1]\n",
    "    object_key = f\"TransformedInputs/batch_transform/input/{file_name}\"\n",
    "    s3.put_object(Bucket=bucket_name, Key=object_key, Body=csv_buffer.getvalue())"
   ]
  },
  {
   "cell_type": "code",
   "execution_count": 59,
   "metadata": {},
   "outputs": [
    {
     "name": "stderr",
     "output_type": "stream",
     "text": [
      "INFO:sagemaker:Creating model with name: autogluon-inference-2025-01-17-03-20-46-885\n",
      "INFO:sagemaker:Creating transform job with name: autogluon-inference-2025-01-17-03-20-47-513\n"
     ]
    },
    {
     "name": "stdout",
     "output_type": "stream",
     "text": [
      "Starting transform job autogluon-inference-2025-01-17-03-20-47-513\n"
     ]
    }
   ],
   "source": [
    "\n",
    "transformer = model.transformer(\n",
    "    instance_count=1,\n",
    "    instance_type=\"ml.c5.4xlarge\",\n",
    "    assemble_with=\"Line\",\n",
    "    strategy=\"SingleRecord\",\n",
    "    output_path=\"s3://niwa-water-demand-modelling/TrainingDataInference/\",\n",
    "    env={\"SAGEMAKER_MODEL_SERVER_TIMEOUT\": \"100\", \"SAGEMAKER_MODEL_SERVER_WORKERS\": \"1\"},\n",
    ")\n",
    "\n",
    "transformer.transform(\n",
    "    data=\"s3://niwa-water-demand-modelling/TrainingData/North Wellington Moa.csv\",\n",
    "    split_type=\"Line\",\n",
    "    content_type=\"text/csv\",\n",
    "    wait=False,\n",
    "    model_client_config={\"InvocationsTimeoutInSeconds\": 80, \"InvocationsMaxRetries\": 1},\n",
    ")\n",
    "\n",
    "print(\"Starting transform job {}\".format(transformer._current_job_name))"
   ]
  },
  {
   "cell_type": "code",
   "execution_count": 60,
   "metadata": {},
   "outputs": [
    {
     "name": "stdout",
     "output_type": "stream",
     "text": [
      "autogluon-inference-2025-01-17-03-20-47-513 transform job is running.\n",
      "autogluon-inference-2025-01-17-03-20-47-513 transform job is running.\n",
      "autogluon-inference-2025-01-17-03-20-47-513 transform job is running.\n",
      "autogluon-inference-2025-01-17-03-20-47-513 transform job is running.\n",
      "autogluon-inference-2025-01-17-03-20-47-513 transform job is running.\n",
      "autogluon-inference-2025-01-17-03-20-47-513 transform job is running.\n",
      "\n",
      "Completed.\n"
     ]
    }
   ],
   "source": [
    "## Wait for jobs to finish\n",
    "pending_complete = True\n",
    "job_name = transformer._current_job_name\n",
    "\n",
    "while pending_complete:\n",
    "    pending_complete = False\n",
    "\n",
    "    description = sm.describe_transform_job(TransformJobName=job_name)\n",
    "    if description[\"TransformJobStatus\"] not in [\"Failed\", \"Completed\"]:\n",
    "        pending_complete = True\n",
    "\n",
    "    print(\"{} transform job is running.\".format(job_name))\n",
    "    time.sleep(60)\n",
    "\n",
    "print(\"\\nCompleted.\")"
   ]
  },
  {
   "attachments": {},
   "cell_type": "markdown",
   "metadata": {},
   "source": [
    "---\n",
    "## Cleanup\n",
    "\n",
    "The Autopilot job creates many underlying artifacts such as dataset splits, preprocessing scripts, or preprocessed data, etc. This code, when un-commented, deletes them. "
   ]
  },
  {
   "cell_type": "code",
   "execution_count": null,
   "metadata": {},
   "outputs": [],
   "source": [
    "s3 = boto3.resource(\"s3\")\n",
    "s3_bucket = s3.Bucket(bucket)\n",
    "\n",
    "print(s3_bucket)\n",
    "job_outputs_prefix = \"{}/output/{}\".format(prefix, auto_ml_job_name)\n",
    "print(job_outputs_prefix)\n",
    "\n",
    "# Delete S3 objects\n",
    "s3_bucket.objects.filter(Prefix=job_outputs_prefix).delete()"
   ]
  },
  {
   "attachments": {},
   "cell_type": "markdown",
   "metadata": {},
   "source": [
    "We then delete all the experiment and model resources created by the Autopilot experiment."
   ]
  },
  {
   "cell_type": "code",
   "execution_count": null,
   "metadata": {},
   "outputs": [],
   "source": [
    "def cleanup_experiment_resources(experiment_name):\n",
    "    trials = sm.list_trials(ExperimentName=experiment_name)[\"TrialSummaries\"]\n",
    "    print(\"TrialNames:\")\n",
    "    for trial in trials:\n",
    "        trial_name = trial[\"TrialName\"]\n",
    "        print(f\"\\n{trial_name}\")\n",
    "\n",
    "        components_in_trial = sm.list_trial_components(TrialName=trial_name)\n",
    "        print(\"\\tTrialComponentNames:\")\n",
    "        for component in components_in_trial[\"TrialComponentSummaries\"]:\n",
    "            component_name = component[\"TrialComponentName\"]\n",
    "            print(f\"\\t{component_name}\")\n",
    "            sm.disassociate_trial_component(TrialComponentName=component_name, TrialName=trial_name)\n",
    "            try:\n",
    "                # comment out to keep trial components\n",
    "                sm.delete_trial_component(TrialComponentName=component_name)\n",
    "            except:\n",
    "                # component is associated with another trial\n",
    "                continue\n",
    "            # to prevent throttling\n",
    "            time.sleep(5)\n",
    "        sm.delete_trial(TrialName=trial_name)\n",
    "    sm.delete_experiment(ExperimentName=experiment_name)\n",
    "    print(f\"\\nExperiment {experiment_name} deleted\")\n",
    "\n",
    "\n",
    "def cleanup_autopilot_models(autopilot_job_name):\n",
    "    print(\"{0}:\\n\".format(autopilot_job_name))\n",
    "    response = sm.list_models(NameContains=autopilot_job_name)\n",
    "\n",
    "    for model in response[\"Models\"]:\n",
    "        model_name = model[\"ModelName\"]\n",
    "        print(f\"\\t{model_name}\")\n",
    "        sm.delete_model(ModelName=model_name)\n",
    "        # to prevent throttling\n",
    "        time.sleep(3)"
   ]
  },
  {
   "cell_type": "code",
   "execution_count": null,
   "metadata": {},
   "outputs": [],
   "source": [
    "cleanup_experiment_resources(\"{0}-aws-auto-ml-job\".format(auto_ml_job_name))"
   ]
  },
  {
   "cell_type": "code",
   "execution_count": null,
   "metadata": {},
   "outputs": [],
   "source": [
    "cleanup_autopilot_models(auto_ml_job_name)"
   ]
  },
  {
   "attachments": {},
   "cell_type": "markdown",
   "metadata": {},
   "source": [
    "Finally, the following code, when uncommented, will delete the local files used in this demo."
   ]
  },
  {
   "cell_type": "code",
   "execution_count": null,
   "metadata": {},
   "outputs": [],
   "source": [
    "import shutil\n",
    "import glob\n",
    "import os\n",
    "\n",
    "\n",
    "def delete_local_files():\n",
    "    base_path = \"\"\n",
    "    dir_list = glob.iglob(os.path.join(base_path, \"{0}*\".format(auto_ml_job_name)))\n",
    "\n",
    "    for path in dir_list:\n",
    "        if os.path.isdir(path):\n",
    "            shutil.rmtree(path)\n",
    "\n",
    "    if os.path.exists(\"CaliforniaHousing\"):\n",
    "        shutil.rmtree(\"CaliforniaHousing\")\n",
    "\n",
    "    if os.path.exists(\"cal_housing.tgz\"):\n",
    "        os.remove(\"cal_housing.tgz\")\n",
    "\n",
    "    if os.path.exists(\"SageMakerAutopilotCandidateDefinitionNotebook.ipynb\"):\n",
    "        os.remove(\"SageMakerAutopilotCandidateDefinitionNotebook.ipynb\")\n",
    "\n",
    "    if os.path.exists(\"SageMakerAutopilotDataExplorationNotebook.ipynb\"):\n",
    "        os.remove(\"SageMakerAutopilotDataExplorationNotebook.ipynb\")\n",
    "\n",
    "    if os.path.exists(\"test_data_no_target.csv\"):\n",
    "        os.remove(\"test_data_no_target.csv\")\n",
    "\n",
    "    if os.path.exists(\"test_data.csv\"):\n",
    "        os.remove(\"test_data.csv\")\n",
    "\n",
    "    if os.path.exists(\"train_data.csv\"):\n",
    "        os.remove(\"train_data.csv\")\n",
    "\n",
    "\n",
    "## UNCOMMENT TO CLEAN UP LOCAL FILES\n",
    "# delete_local_files()"
   ]
  },
  {
   "attachments": {},
   "cell_type": "markdown",
   "metadata": {},
   "source": [
    "**Note: If you enabled automatic endpoint creation, you will need to delete the endpoint manually.**"
   ]
  },
  {
   "attachments": {},
   "cell_type": "markdown",
   "metadata": {},
   "source": [
    "## Notebook CI Test Results\n",
    "\n",
    "This notebook was tested in multiple regions. The test results are as follows, except for us-west-2 which is shown at the top of the notebook.\n",
    "\n",
    "![This us-east-1 badge failed to load. Check your device's internet connectivity, otherwise the service is currently unavailable](https://prod.us-west-2.tcx-beacon.docs.aws.dev/sagemaker-nb/us-east-1/autopilot|autopilot_california_housing.ipynb)\n",
    "\n",
    "![This us-east-2 badge failed to load. Check your device's internet connectivity, otherwise the service is currently unavailable](https://prod.us-west-2.tcx-beacon.docs.aws.dev/sagemaker-nb/us-east-2/autopilot|autopilot_california_housing.ipynb)\n",
    "\n",
    "![This us-west-1 badge failed to load. Check your device's internet connectivity, otherwise the service is currently unavailable](https://prod.us-west-2.tcx-beacon.docs.aws.dev/sagemaker-nb/us-west-1/autopilot|autopilot_california_housing.ipynb)\n",
    "\n",
    "![This ca-central-1 badge failed to load. Check your device's internet connectivity, otherwise the service is currently unavailable](https://prod.us-west-2.tcx-beacon.docs.aws.dev/sagemaker-nb/ca-central-1/autopilot|autopilot_california_housing.ipynb)\n",
    "\n",
    "![This sa-east-1 badge failed to load. Check your device's internet connectivity, otherwise the service is currently unavailable](https://prod.us-west-2.tcx-beacon.docs.aws.dev/sagemaker-nb/sa-east-1/autopilot|autopilot_california_housing.ipynb)\n",
    "\n",
    "![This eu-west-1 badge failed to load. Check your device's internet connectivity, otherwise the service is currently unavailable](https://prod.us-west-2.tcx-beacon.docs.aws.dev/sagemaker-nb/eu-west-1/autopilot|autopilot_california_housing.ipynb)\n",
    "\n",
    "![This eu-west-2 badge failed to load. Check your device's internet connectivity, otherwise the service is currently unavailable](https://prod.us-west-2.tcx-beacon.docs.aws.dev/sagemaker-nb/eu-west-2/autopilot|autopilot_california_housing.ipynb)\n",
    "\n",
    "![This eu-west-3 badge failed to load. Check your device's internet connectivity, otherwise the service is currently unavailable](https://prod.us-west-2.tcx-beacon.docs.aws.dev/sagemaker-nb/eu-west-3/autopilot|autopilot_california_housing.ipynb)\n",
    "\n",
    "![This eu-central-1 badge failed to load. Check your device's internet connectivity, otherwise the service is currently unavailable](https://prod.us-west-2.tcx-beacon.docs.aws.dev/sagemaker-nb/eu-central-1/autopilot|autopilot_california_housing.ipynb)\n",
    "\n",
    "![This eu-north-1 badge failed to load. Check your device's internet connectivity, otherwise the service is currently unavailable](https://prod.us-west-2.tcx-beacon.docs.aws.dev/sagemaker-nb/eu-north-1/autopilot|autopilot_california_housing.ipynb)\n",
    "\n",
    "![This ap-southeast-1 badge failed to load. Check your device's internet connectivity, otherwise the service is currently unavailable](https://prod.us-west-2.tcx-beacon.docs.aws.dev/sagemaker-nb/ap-southeast-1/autopilot|autopilot_california_housing.ipynb)\n",
    "\n",
    "![This ap-southeast-2 badge failed to load. Check your device's internet connectivity, otherwise the service is currently unavailable](https://prod.us-west-2.tcx-beacon.docs.aws.dev/sagemaker-nb/ap-southeast-2/autopilot|autopilot_california_housing.ipynb)\n",
    "\n",
    "![This ap-northeast-1 badge failed to load. Check your device's internet connectivity, otherwise the service is currently unavailable](https://prod.us-west-2.tcx-beacon.docs.aws.dev/sagemaker-nb/ap-northeast-1/autopilot|autopilot_california_housing.ipynb)\n",
    "\n",
    "![This ap-northeast-2 badge failed to load. Check your device's internet connectivity, otherwise the service is currently unavailable](https://prod.us-west-2.tcx-beacon.docs.aws.dev/sagemaker-nb/ap-northeast-2/autopilot|autopilot_california_housing.ipynb)\n",
    "\n",
    "![This ap-south-1 badge failed to load. Check your device's internet connectivity, otherwise the service is currently unavailable](https://prod.us-west-2.tcx-beacon.docs.aws.dev/sagemaker-nb/ap-south-1/autopilot|autopilot_california_housing.ipynb)\n"
   ]
  }
 ],
 "metadata": {
  "instance_type": "ml.t3.medium",
  "kernelspec": {
   "display_name": "Python 3 (ipykernel)",
   "language": "python",
   "name": "python3"
  },
  "language_info": {
   "codemirror_mode": {
    "name": "ipython",
    "version": 3
   },
   "file_extension": ".py",
   "mimetype": "text/x-python",
   "name": "python",
   "nbconvert_exporter": "python",
   "pygments_lexer": "ipython3",
   "version": "3.10.14"
  }
 },
 "nbformat": 4,
 "nbformat_minor": 4
}
